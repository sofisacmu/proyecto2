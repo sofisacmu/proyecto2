{
 "cells": [
  {
   "cell_type": "markdown",
   "id": "6bd59991",
   "metadata": {},
   "source": [
    "## Limpieza y alistamiento de datos."
   ]
  },
  {
   "cell_type": "markdown",
   "id": "f57be0a2",
   "metadata": {},
   "source": [
    "Lectura inicial de los datos."
   ]
  },
  {
   "cell_type": "code",
   "execution_count": 2,
   "id": "26982934",
   "metadata": {},
   "outputs": [
    {
     "data": {
      "text/html": [
       "<div>\n",
       "<style scoped>\n",
       "    .dataframe tbody tr th:only-of-type {\n",
       "        vertical-align: middle;\n",
       "    }\n",
       "\n",
       "    .dataframe tbody tr th {\n",
       "        vertical-align: top;\n",
       "    }\n",
       "\n",
       "    .dataframe thead th {\n",
       "        text-align: right;\n",
       "    }\n",
       "</style>\n",
       "<table border=\"1\" class=\"dataframe\">\n",
       "  <thead>\n",
       "    <tr style=\"text-align: right;\">\n",
       "      <th></th>\n",
       "      <th>periodo</th>\n",
       "      <th>estu_tipodocumento</th>\n",
       "      <th>estu_consecutivo</th>\n",
       "      <th>cole_area_ubicacion</th>\n",
       "      <th>cole_bilingue</th>\n",
       "      <th>cole_calendario</th>\n",
       "      <th>cole_caracter</th>\n",
       "      <th>cole_cod_dane_establecimiento</th>\n",
       "      <th>cole_cod_dane_sede</th>\n",
       "      <th>cole_cod_depto_ubicacion</th>\n",
       "      <th>...</th>\n",
       "      <th>fami_tienecomputador</th>\n",
       "      <th>fami_tieneinternet</th>\n",
       "      <th>fami_tienelavadora</th>\n",
       "      <th>desemp_ingles</th>\n",
       "      <th>punt_ingles</th>\n",
       "      <th>punt_matematicas</th>\n",
       "      <th>punt_sociales_ciudadanas</th>\n",
       "      <th>punt_c_naturales</th>\n",
       "      <th>punt_lectura_critica</th>\n",
       "      <th>punt_global</th>\n",
       "    </tr>\n",
       "  </thead>\n",
       "  <tbody>\n",
       "    <tr>\n",
       "      <th>0</th>\n",
       "      <td>20112</td>\n",
       "      <td>TI</td>\n",
       "      <td>SB11201120469337</td>\n",
       "      <td>URBANO</td>\n",
       "      <td>N</td>\n",
       "      <td>A</td>\n",
       "      <td>TÉCNICO</td>\n",
       "      <td>1.252900e+11</td>\n",
       "      <td>1.252900e+11</td>\n",
       "      <td>25.0</td>\n",
       "      <td>...</td>\n",
       "      <td>No</td>\n",
       "      <td>No</td>\n",
       "      <td>No</td>\n",
       "      <td>A-</td>\n",
       "      <td>41.0</td>\n",
       "      <td>39.0</td>\n",
       "      <td>NaN</td>\n",
       "      <td>NaN</td>\n",
       "      <td>NaN</td>\n",
       "      <td>NaN</td>\n",
       "    </tr>\n",
       "    <tr>\n",
       "      <th>1</th>\n",
       "      <td>20112</td>\n",
       "      <td>TI</td>\n",
       "      <td>SB11201120429749</td>\n",
       "      <td>URBANO</td>\n",
       "      <td>N</td>\n",
       "      <td>A</td>\n",
       "      <td>ACADÉMICO</td>\n",
       "      <td>1.195320e+11</td>\n",
       "      <td>1.195320e+11</td>\n",
       "      <td>19.0</td>\n",
       "      <td>...</td>\n",
       "      <td>Si</td>\n",
       "      <td>No</td>\n",
       "      <td>No</td>\n",
       "      <td>A1</td>\n",
       "      <td>47.0</td>\n",
       "      <td>52.0</td>\n",
       "      <td>NaN</td>\n",
       "      <td>NaN</td>\n",
       "      <td>NaN</td>\n",
       "      <td>NaN</td>\n",
       "    </tr>\n",
       "    <tr>\n",
       "      <th>2</th>\n",
       "      <td>20112</td>\n",
       "      <td>TI</td>\n",
       "      <td>SB11201120357254</td>\n",
       "      <td>URBANO</td>\n",
       "      <td>N</td>\n",
       "      <td>A</td>\n",
       "      <td>ACADÉMICO</td>\n",
       "      <td>1.110010e+11</td>\n",
       "      <td>1.110010e+11</td>\n",
       "      <td>11.0</td>\n",
       "      <td>...</td>\n",
       "      <td>Si</td>\n",
       "      <td>No</td>\n",
       "      <td>No</td>\n",
       "      <td>A-</td>\n",
       "      <td>36.0</td>\n",
       "      <td>49.0</td>\n",
       "      <td>NaN</td>\n",
       "      <td>NaN</td>\n",
       "      <td>NaN</td>\n",
       "      <td>NaN</td>\n",
       "    </tr>\n",
       "    <tr>\n",
       "      <th>3</th>\n",
       "      <td>20112</td>\n",
       "      <td>TI</td>\n",
       "      <td>SB11201120128307</td>\n",
       "      <td>URBANO</td>\n",
       "      <td>N</td>\n",
       "      <td>A</td>\n",
       "      <td>ACADÉMICO</td>\n",
       "      <td>1.058610e+11</td>\n",
       "      <td>1.058610e+11</td>\n",
       "      <td>5.0</td>\n",
       "      <td>...</td>\n",
       "      <td>No</td>\n",
       "      <td>No</td>\n",
       "      <td>No</td>\n",
       "      <td>A1</td>\n",
       "      <td>43.0</td>\n",
       "      <td>32.0</td>\n",
       "      <td>NaN</td>\n",
       "      <td>NaN</td>\n",
       "      <td>NaN</td>\n",
       "      <td>NaN</td>\n",
       "    </tr>\n",
       "    <tr>\n",
       "      <th>4</th>\n",
       "      <td>20112</td>\n",
       "      <td>TI</td>\n",
       "      <td>SB11201120230641</td>\n",
       "      <td>URBANO</td>\n",
       "      <td>N</td>\n",
       "      <td>A</td>\n",
       "      <td>ACADÉMICO</td>\n",
       "      <td>1.761260e+11</td>\n",
       "      <td>1.761260e+11</td>\n",
       "      <td>76.0</td>\n",
       "      <td>...</td>\n",
       "      <td>No</td>\n",
       "      <td>No</td>\n",
       "      <td>No</td>\n",
       "      <td>A-</td>\n",
       "      <td>43.0</td>\n",
       "      <td>49.0</td>\n",
       "      <td>NaN</td>\n",
       "      <td>NaN</td>\n",
       "      <td>NaN</td>\n",
       "      <td>NaN</td>\n",
       "    </tr>\n",
       "  </tbody>\n",
       "</table>\n",
       "<p>5 rows × 51 columns</p>\n",
       "</div>"
      ],
      "text/plain": [
       "   periodo estu_tipodocumento  estu_consecutivo cole_area_ubicacion  \\\n",
       "0    20112                 TI  SB11201120469337              URBANO   \n",
       "1    20112                 TI  SB11201120429749              URBANO   \n",
       "2    20112                 TI  SB11201120357254              URBANO   \n",
       "3    20112                 TI  SB11201120128307              URBANO   \n",
       "4    20112                 TI  SB11201120230641              URBANO   \n",
       "\n",
       "  cole_bilingue cole_calendario cole_caracter  cole_cod_dane_establecimiento  \\\n",
       "0             N               A       TÉCNICO                   1.252900e+11   \n",
       "1             N               A     ACADÉMICO                   1.195320e+11   \n",
       "2             N               A     ACADÉMICO                   1.110010e+11   \n",
       "3             N               A     ACADÉMICO                   1.058610e+11   \n",
       "4             N               A     ACADÉMICO                   1.761260e+11   \n",
       "\n",
       "   cole_cod_dane_sede  cole_cod_depto_ubicacion  ...  fami_tienecomputador  \\\n",
       "0        1.252900e+11                      25.0  ...                    No   \n",
       "1        1.195320e+11                      19.0  ...                    Si   \n",
       "2        1.110010e+11                      11.0  ...                    Si   \n",
       "3        1.058610e+11                       5.0  ...                    No   \n",
       "4        1.761260e+11                      76.0  ...                    No   \n",
       "\n",
       "   fami_tieneinternet fami_tienelavadora desemp_ingles punt_ingles  \\\n",
       "0                  No                 No            A-        41.0   \n",
       "1                  No                 No            A1        47.0   \n",
       "2                  No                 No            A-        36.0   \n",
       "3                  No                 No            A1        43.0   \n",
       "4                  No                 No            A-        43.0   \n",
       "\n",
       "  punt_matematicas punt_sociales_ciudadanas punt_c_naturales  \\\n",
       "0             39.0                      NaN              NaN   \n",
       "1             52.0                      NaN              NaN   \n",
       "2             49.0                      NaN              NaN   \n",
       "3             32.0                      NaN              NaN   \n",
       "4             49.0                      NaN              NaN   \n",
       "\n",
       "  punt_lectura_critica punt_global  \n",
       "0                  NaN         NaN  \n",
       "1                  NaN         NaN  \n",
       "2                  NaN         NaN  \n",
       "3                  NaN         NaN  \n",
       "4                  NaN         NaN  \n",
       "\n",
       "[5 rows x 51 columns]"
      ]
     },
     "execution_count": 2,
     "metadata": {},
     "output_type": "execute_result"
    }
   ],
   "source": [
    "import pandas as pd\n",
    "\n",
    "datos = pd.read_csv(\"..//..//Datos2011.csv\", sep = \",\")\n",
    "\n",
    "datos.head()"
   ]
  },
  {
   "cell_type": "markdown",
   "id": "760d484e",
   "metadata": {},
   "source": [
    "Identificación de tipos de datos en las columnas."
   ]
  },
  {
   "cell_type": "code",
   "execution_count": 3,
   "id": "61cd20d5",
   "metadata": {},
   "outputs": [
    {
     "data": {
      "text/plain": [
       "periodo                            int64\n",
       "estu_tipodocumento                object\n",
       "estu_consecutivo                  object\n",
       "cole_area_ubicacion               object\n",
       "cole_bilingue                     object\n",
       "cole_calendario                   object\n",
       "cole_caracter                     object\n",
       "cole_cod_dane_establecimiento    float64\n",
       "cole_cod_dane_sede               float64\n",
       "cole_cod_depto_ubicacion         float64\n",
       "cole_cod_mcpio_ubicacion         float64\n",
       "cole_codigo_icfes                float64\n",
       "cole_depto_ubicacion              object\n",
       "cole_genero                       object\n",
       "cole_jornada                      object\n",
       "cole_mcpio_ubicacion              object\n",
       "cole_naturaleza                   object\n",
       "cole_nombre_establecimiento       object\n",
       "cole_nombre_sede                  object\n",
       "cole_sede_principal               object\n",
       "estu_cod_depto_presentacion      float64\n",
       "estu_cod_mcpio_presentacion      float64\n",
       "estu_cod_reside_depto            float64\n",
       "estu_cod_reside_mcpio            float64\n",
       "estu_depto_presentacion           object\n",
       "estu_depto_reside                 object\n",
       "estu_estadoinvestigacion          object\n",
       "estu_estudiante                   object\n",
       "estu_fechanacimiento              object\n",
       "estu_genero                       object\n",
       "estu_mcpio_presentacion           object\n",
       "estu_mcpio_reside                 object\n",
       "estu_nacionalidad                 object\n",
       "estu_pais_reside                  object\n",
       "estu_privado_libertad             object\n",
       "fami_cuartoshogar                 object\n",
       "fami_educacionmadre               object\n",
       "fami_educacionpadre               object\n",
       "fami_estratovivienda              object\n",
       "fami_personashogar                object\n",
       "fami_tieneautomovil               object\n",
       "fami_tienecomputador              object\n",
       "fami_tieneinternet                object\n",
       "fami_tienelavadora                object\n",
       "desemp_ingles                     object\n",
       "punt_ingles                      float64\n",
       "punt_matematicas                 float64\n",
       "punt_sociales_ciudadanas         float64\n",
       "punt_c_naturales                 float64\n",
       "punt_lectura_critica             float64\n",
       "punt_global                      float64\n",
       "dtype: object"
      ]
     },
     "execution_count": 3,
     "metadata": {},
     "output_type": "execute_result"
    }
   ],
   "source": [
    "datos.dtypes"
   ]
  },
  {
   "cell_type": "markdown",
   "id": "2aea53f5",
   "metadata": {},
   "source": [
    "Primeras dimensiones de los datos cargados."
   ]
  },
  {
   "cell_type": "code",
   "execution_count": 4,
   "id": "28953481",
   "metadata": {},
   "outputs": [
    {
     "data": {
      "text/plain": [
       "(650420, 51)"
      ]
     },
     "execution_count": 4,
     "metadata": {},
     "output_type": "execute_result"
    }
   ],
   "source": [
    "datos.shape"
   ]
  },
  {
   "cell_type": "markdown",
   "id": "41233441",
   "metadata": {},
   "source": [
    "Identificación de duplicados en los datos."
   ]
  },
  {
   "cell_type": "code",
   "execution_count": 5,
   "id": "0a951509",
   "metadata": {},
   "outputs": [
    {
     "data": {
      "text/plain": [
       "0         False\n",
       "1         False\n",
       "2         False\n",
       "3         False\n",
       "4         False\n",
       "          ...  \n",
       "650415     True\n",
       "650416     True\n",
       "650417     True\n",
       "650418    False\n",
       "650419    False\n",
       "Length: 650420, dtype: bool"
      ]
     },
     "execution_count": 5,
     "metadata": {},
     "output_type": "execute_result"
    }
   ],
   "source": [
    "datos.duplicated()"
   ]
  },
  {
   "cell_type": "markdown",
   "id": "e529be71",
   "metadata": {},
   "source": [
    "Eliminación de duplicados y dimensiones nuevas."
   ]
  },
  {
   "cell_type": "code",
   "execution_count": 6,
   "id": "94214aae",
   "metadata": {},
   "outputs": [
    {
     "data": {
      "text/plain": [
       "(572417, 51)"
      ]
     },
     "execution_count": 6,
     "metadata": {},
     "output_type": "execute_result"
    }
   ],
   "source": [
    "datos = datos.drop_duplicates()\n",
    "datos.shape"
   ]
  },
  {
   "cell_type": "markdown",
   "id": "0abe9468",
   "metadata": {},
   "source": [
    "Identificación del nombre de las columnas."
   ]
  },
  {
   "cell_type": "code",
   "execution_count": 7,
   "id": "d4546698",
   "metadata": {},
   "outputs": [
    {
     "name": "stdout",
     "output_type": "stream",
     "text": [
      "periodo\n",
      "estu_tipodocumento\n",
      "estu_consecutivo\n",
      "cole_area_ubicacion\n",
      "cole_bilingue\n",
      "cole_calendario\n",
      "cole_caracter\n",
      "cole_cod_dane_establecimiento\n",
      "cole_cod_dane_sede\n",
      "cole_cod_depto_ubicacion\n",
      "cole_cod_mcpio_ubicacion\n",
      "cole_codigo_icfes\n",
      "cole_depto_ubicacion\n",
      "cole_genero\n",
      "cole_jornada\n",
      "cole_mcpio_ubicacion\n",
      "cole_naturaleza\n",
      "cole_nombre_establecimiento\n",
      "cole_nombre_sede\n",
      "cole_sede_principal\n",
      "estu_cod_depto_presentacion\n",
      "estu_cod_mcpio_presentacion\n",
      "estu_cod_reside_depto\n",
      "estu_cod_reside_mcpio\n",
      "estu_depto_presentacion\n",
      "estu_depto_reside\n",
      "estu_estadoinvestigacion\n",
      "estu_estudiante\n",
      "estu_fechanacimiento\n",
      "estu_genero\n",
      "estu_mcpio_presentacion\n",
      "estu_mcpio_reside\n",
      "estu_nacionalidad\n",
      "estu_pais_reside\n",
      "estu_privado_libertad\n",
      "fami_cuartoshogar\n",
      "fami_educacionmadre\n",
      "fami_educacionpadre\n",
      "fami_estratovivienda\n",
      "fami_personashogar\n",
      "fami_tieneautomovil\n",
      "fami_tienecomputador\n",
      "fami_tieneinternet\n",
      "fami_tienelavadora\n",
      "desemp_ingles\n",
      "punt_ingles\n",
      "punt_matematicas\n",
      "punt_sociales_ciudadanas\n",
      "punt_c_naturales\n",
      "punt_lectura_critica\n",
      "punt_global\n"
     ]
    }
   ],
   "source": [
    "for columna in list(datos.columns):\n",
    "    print(columna)"
   ]
  },
  {
   "cell_type": "markdown",
   "id": "ea44936c",
   "metadata": {},
   "source": [
    "Identificación de valores nulos por columnas."
   ]
  },
  {
   "cell_type": "code",
   "execution_count": 8,
   "id": "189d27be",
   "metadata": {},
   "outputs": [
    {
     "name": "stdout",
     "output_type": "stream",
     "text": [
      "periodo                               0\n",
      "estu_tipodocumento                    0\n",
      "estu_consecutivo                      0\n",
      "cole_area_ubicacion                 928\n",
      "cole_bilingue                     56057\n",
      "cole_calendario                     371\n",
      "cole_caracter                      3424\n",
      "cole_cod_dane_establecimiento       887\n",
      "cole_cod_dane_sede                   41\n",
      "cole_cod_depto_ubicacion             21\n",
      "cole_cod_mcpio_ubicacion             21\n",
      "cole_codigo_icfes                    21\n",
      "cole_depto_ubicacion                 21\n",
      "cole_genero                          21\n",
      "cole_jornada                         21\n",
      "cole_mcpio_ubicacion                 21\n",
      "cole_naturaleza                      21\n",
      "cole_nombre_establecimiento          21\n",
      "cole_nombre_sede                     21\n",
      "cole_sede_principal                  21\n",
      "estu_cod_depto_presentacion         169\n",
      "estu_cod_mcpio_presentacion          24\n",
      "estu_cod_reside_depto             11658\n",
      "estu_cod_reside_mcpio             11658\n",
      "estu_depto_presentacion               1\n",
      "estu_depto_reside                 11659\n",
      "estu_estadoinvestigacion              0\n",
      "estu_estudiante                       1\n",
      "estu_fechanacimiento                  0\n",
      "estu_genero                           6\n",
      "estu_mcpio_presentacion               0\n",
      "estu_mcpio_reside                 11658\n",
      "estu_nacionalidad                     0\n",
      "estu_pais_reside                      1\n",
      "estu_privado_libertad                 0\n",
      "fami_cuartoshogar                  7776\n",
      "fami_educacionmadre                9831\n",
      "fami_educacionpadre                9771\n",
      "fami_estratovivienda              12565\n",
      "fami_personashogar                 7834\n",
      "fami_tieneautomovil                7823\n",
      "fami_tienecomputador               9256\n",
      "fami_tieneinternet                 7946\n",
      "fami_tienelavadora                 7823\n",
      "desemp_ingles                       238\n",
      "punt_ingles                         173\n",
      "punt_matematicas                     28\n",
      "punt_sociales_ciudadanas         572248\n",
      "punt_c_naturales                 572393\n",
      "punt_lectura_critica             572417\n",
      "punt_global                      572417\n",
      "dtype: int64\n"
     ]
    }
   ],
   "source": [
    "print(datos.isnull().sum())"
   ]
  },
  {
   "cell_type": "markdown",
   "id": "b7755a61",
   "metadata": {},
   "source": [
    "Primera limpieza: Eliminación de nulos en una de las dos columnas críticas para las preguntas de negocio."
   ]
  },
  {
   "cell_type": "code",
   "execution_count": 9,
   "id": "bcca4429",
   "metadata": {},
   "outputs": [
    {
     "name": "stdout",
     "output_type": "stream",
     "text": [
      "(572244, 51)\n",
      "0\n"
     ]
    }
   ],
   "source": [
    "datos = datos[datos[\"punt_ingles\"].notnull()]\n",
    "print(datos.shape)\n",
    "print(datos[\"punt_ingles\"].isnull().sum())"
   ]
  },
  {
   "cell_type": "markdown",
   "id": "704a7e41",
   "metadata": {},
   "source": [
    "Eliminación de columnas irrelevantes para el objetivo y las preguntas del negocio."
   ]
  },
  {
   "cell_type": "code",
   "execution_count": 10,
   "id": "fb6765d3",
   "metadata": {},
   "outputs": [
    {
     "name": "stdout",
     "output_type": "stream",
     "text": [
      "periodo                        0\n",
      "estu_tipodocumento             0\n",
      "cole_area_ubicacion          928\n",
      "cole_bilingue              56032\n",
      "cole_calendario              371\n",
      "cole_caracter               3401\n",
      "cole_depto_ubicacion          21\n",
      "cole_genero                   21\n",
      "cole_jornada                  21\n",
      "cole_mcpio_ubicacion          21\n",
      "cole_naturaleza               21\n",
      "cole_sede_principal           21\n",
      "estu_depto_presentacion        0\n",
      "estu_depto_reside          11658\n",
      "estu_estudiante                0\n",
      "estu_genero                    6\n",
      "estu_mcpio_presentacion        0\n",
      "estu_mcpio_reside          11658\n",
      "estu_nacionalidad              0\n",
      "estu_pais_reside               0\n",
      "estu_privado_libertad          0\n",
      "fami_educacionmadre         9831\n",
      "fami_educacionpadre         9769\n",
      "fami_estratovivienda       12563\n",
      "fami_tienecomputador        9256\n",
      "fami_tieneinternet          7946\n",
      "desemp_ingles                238\n",
      "punt_ingles                    0\n",
      "dtype: int64\n"
     ]
    }
   ],
   "source": [
    "datos = datos.drop([\"fami_tienelavadora\",\"fami_tieneautomovil\",\n",
    "                    \"fami_personashogar\",\"fami_cuartoshogar\",\n",
    "                    \"estu_fechanacimiento\",\"estu_estadoinvestigacion\",\n",
    "                    \"cole_nombre_sede\",\"cole_nombre_establecimiento\",\n",
    "                    \"estu_consecutivo\",\"cole_cod_dane_establecimiento\",\n",
    "                    \"cole_cod_dane_sede\",\"cole_cod_depto_ubicacion\",\n",
    "                    \"cole_cod_mcpio_ubicacion\",\"cole_codigo_icfes\",\n",
    "                    \"estu_cod_depto_presentacion\", \"estu_cod_mcpio_presentacion\",\n",
    "                    \"estu_cod_reside_depto\",\"estu_cod_reside_mcpio\",\n",
    "                    \"punt_matematicas\", \"punt_sociales_ciudadanas\",\n",
    "                    \"punt_c_naturales\", \"punt_lectura_critica\",\n",
    "                    \"punt_global\"], axis=1)\n",
    "print(datos.isnull().sum())"
   ]
  },
  {
   "cell_type": "markdown",
   "id": "6e835b38",
   "metadata": {},
   "source": [
    "Nuevas dimensiones de los datos."
   ]
  },
  {
   "cell_type": "code",
   "execution_count": 11,
   "id": "e0dd4e75",
   "metadata": {},
   "outputs": [
    {
     "data": {
      "text/plain": [
       "(572244, 28)"
      ]
     },
     "execution_count": 11,
     "metadata": {},
     "output_type": "execute_result"
    }
   ],
   "source": [
    "datos.shape"
   ]
  },
  {
   "cell_type": "markdown",
   "id": "637321d2",
   "metadata": {},
   "source": [
    "Segunda limpieza: Eliminación de todas las filas con valores nulos en las columnas relevantes para el proyecto."
   ]
  },
  {
   "cell_type": "code",
   "execution_count": 12,
   "id": "5bb0f0de",
   "metadata": {},
   "outputs": [
    {
     "data": {
      "text/plain": [
       "(494094, 28)"
      ]
     },
     "execution_count": 12,
     "metadata": {},
     "output_type": "execute_result"
    }
   ],
   "source": [
    "datos = datos.dropna()\n",
    "datos.shape"
   ]
  },
  {
   "cell_type": "code",
   "execution_count": 13,
   "id": "7ea31a50",
   "metadata": {},
   "outputs": [
    {
     "name": "stdout",
     "output_type": "stream",
     "text": [
      "0\n"
     ]
    }
   ],
   "source": [
    "print(datos.isnull().sum().sum())"
   ]
  },
  {
   "cell_type": "markdown",
   "id": "3226a37f",
   "metadata": {},
   "source": [
    "Identificación de los tipos de datos en las columnas seleccionadas."
   ]
  },
  {
   "cell_type": "code",
   "execution_count": 14,
   "id": "b2bab219",
   "metadata": {},
   "outputs": [
    {
     "data": {
      "text/plain": [
       "periodo                      int64\n",
       "estu_tipodocumento          object\n",
       "cole_area_ubicacion         object\n",
       "cole_bilingue               object\n",
       "cole_calendario             object\n",
       "cole_caracter               object\n",
       "cole_depto_ubicacion        object\n",
       "cole_genero                 object\n",
       "cole_jornada                object\n",
       "cole_mcpio_ubicacion        object\n",
       "cole_naturaleza             object\n",
       "cole_sede_principal         object\n",
       "estu_depto_presentacion     object\n",
       "estu_depto_reside           object\n",
       "estu_estudiante             object\n",
       "estu_genero                 object\n",
       "estu_mcpio_presentacion     object\n",
       "estu_mcpio_reside           object\n",
       "estu_nacionalidad           object\n",
       "estu_pais_reside            object\n",
       "estu_privado_libertad       object\n",
       "fami_educacionmadre         object\n",
       "fami_educacionpadre         object\n",
       "fami_estratovivienda        object\n",
       "fami_tienecomputador        object\n",
       "fami_tieneinternet          object\n",
       "desemp_ingles               object\n",
       "punt_ingles                float64\n",
       "dtype: object"
      ]
     },
     "execution_count": 14,
     "metadata": {},
     "output_type": "execute_result"
    }
   ],
   "source": [
    "datos.dtypes"
   ]
  },
  {
   "cell_type": "markdown",
   "id": "83e94e48",
   "metadata": {},
   "source": [
    "Identificación de las clases para la clasificación de los datos."
   ]
  },
  {
   "cell_type": "code",
   "execution_count": 15,
   "id": "311b7809",
   "metadata": {},
   "outputs": [
    {
     "data": {
      "text/plain": [
       "array(['A-', 'A1', 'B1', 'B+', 'A2'], dtype=object)"
      ]
     },
     "execution_count": 15,
     "metadata": {},
     "output_type": "execute_result"
    }
   ],
   "source": [
    "datos[\"desemp_ingles\"].unique()"
   ]
  },
  {
   "cell_type": "markdown",
   "id": "076c2188",
   "metadata": {},
   "source": [
    "Creación de una nueva columna que clasifica el desempeño en inglés en exitoso, promedio e inferior."
   ]
  },
  {
   "cell_type": "code",
   "execution_count": 16,
   "id": "64e7261e",
   "metadata": {},
   "outputs": [
    {
     "data": {
      "text/html": [
       "<div>\n",
       "<style scoped>\n",
       "    .dataframe tbody tr th:only-of-type {\n",
       "        vertical-align: middle;\n",
       "    }\n",
       "\n",
       "    .dataframe tbody tr th {\n",
       "        vertical-align: top;\n",
       "    }\n",
       "\n",
       "    .dataframe thead th {\n",
       "        text-align: right;\n",
       "    }\n",
       "</style>\n",
       "<table border=\"1\" class=\"dataframe\">\n",
       "  <thead>\n",
       "    <tr style=\"text-align: right;\">\n",
       "      <th></th>\n",
       "      <th>periodo</th>\n",
       "      <th>estu_tipodocumento</th>\n",
       "      <th>cole_area_ubicacion</th>\n",
       "      <th>cole_bilingue</th>\n",
       "      <th>cole_calendario</th>\n",
       "      <th>cole_caracter</th>\n",
       "      <th>cole_depto_ubicacion</th>\n",
       "      <th>cole_genero</th>\n",
       "      <th>cole_jornada</th>\n",
       "      <th>cole_mcpio_ubicacion</th>\n",
       "      <th>...</th>\n",
       "      <th>estu_pais_reside</th>\n",
       "      <th>estu_privado_libertad</th>\n",
       "      <th>fami_educacionmadre</th>\n",
       "      <th>fami_educacionpadre</th>\n",
       "      <th>fami_estratovivienda</th>\n",
       "      <th>fami_tienecomputador</th>\n",
       "      <th>fami_tieneinternet</th>\n",
       "      <th>desemp_ingles</th>\n",
       "      <th>punt_ingles</th>\n",
       "      <th>resultado</th>\n",
       "    </tr>\n",
       "  </thead>\n",
       "  <tbody>\n",
       "    <tr>\n",
       "      <th>0</th>\n",
       "      <td>20112</td>\n",
       "      <td>TI</td>\n",
       "      <td>URBANO</td>\n",
       "      <td>N</td>\n",
       "      <td>A</td>\n",
       "      <td>TÉCNICO</td>\n",
       "      <td>CUNDINAMARCA</td>\n",
       "      <td>MIXTO</td>\n",
       "      <td>MAÑANA</td>\n",
       "      <td>FUSAGASUGÁ</td>\n",
       "      <td>...</td>\n",
       "      <td>COLOMBIA</td>\n",
       "      <td>N</td>\n",
       "      <td>Primaria completa</td>\n",
       "      <td>Primaria completa</td>\n",
       "      <td>Estrato 2</td>\n",
       "      <td>No</td>\n",
       "      <td>No</td>\n",
       "      <td>A-</td>\n",
       "      <td>41.0</td>\n",
       "      <td>inferior</td>\n",
       "    </tr>\n",
       "    <tr>\n",
       "      <th>1</th>\n",
       "      <td>20112</td>\n",
       "      <td>TI</td>\n",
       "      <td>URBANO</td>\n",
       "      <td>N</td>\n",
       "      <td>A</td>\n",
       "      <td>ACADÉMICO</td>\n",
       "      <td>CAUCA</td>\n",
       "      <td>MIXTO</td>\n",
       "      <td>MAÑANA</td>\n",
       "      <td>PATÍA</td>\n",
       "      <td>...</td>\n",
       "      <td>COLOMBIA</td>\n",
       "      <td>N</td>\n",
       "      <td>Secundaria (Bachillerato) incompleta</td>\n",
       "      <td>Secundaria (Bachillerato) completa</td>\n",
       "      <td>Estrato 1</td>\n",
       "      <td>Si</td>\n",
       "      <td>No</td>\n",
       "      <td>A1</td>\n",
       "      <td>47.0</td>\n",
       "      <td>inferior</td>\n",
       "    </tr>\n",
       "    <tr>\n",
       "      <th>2</th>\n",
       "      <td>20112</td>\n",
       "      <td>TI</td>\n",
       "      <td>URBANO</td>\n",
       "      <td>N</td>\n",
       "      <td>A</td>\n",
       "      <td>ACADÉMICO</td>\n",
       "      <td>BOGOTA</td>\n",
       "      <td>MIXTO</td>\n",
       "      <td>MAÑANA</td>\n",
       "      <td>BOGOTÁ D.C.</td>\n",
       "      <td>...</td>\n",
       "      <td>COLOMBIA</td>\n",
       "      <td>N</td>\n",
       "      <td>Secundaria (Bachillerato) completa</td>\n",
       "      <td>Educación profesional completa</td>\n",
       "      <td>Estrato 2</td>\n",
       "      <td>Si</td>\n",
       "      <td>No</td>\n",
       "      <td>A-</td>\n",
       "      <td>36.0</td>\n",
       "      <td>inferior</td>\n",
       "    </tr>\n",
       "    <tr>\n",
       "      <th>3</th>\n",
       "      <td>20112</td>\n",
       "      <td>TI</td>\n",
       "      <td>URBANO</td>\n",
       "      <td>N</td>\n",
       "      <td>A</td>\n",
       "      <td>ACADÉMICO</td>\n",
       "      <td>ANTIOQUIA</td>\n",
       "      <td>MIXTO</td>\n",
       "      <td>MAÑANA</td>\n",
       "      <td>VENECIA</td>\n",
       "      <td>...</td>\n",
       "      <td>COLOMBIA</td>\n",
       "      <td>N</td>\n",
       "      <td>Secundaria (Bachillerato) incompleta</td>\n",
       "      <td>Ninguno</td>\n",
       "      <td>Estrato 2</td>\n",
       "      <td>No</td>\n",
       "      <td>No</td>\n",
       "      <td>A1</td>\n",
       "      <td>43.0</td>\n",
       "      <td>inferior</td>\n",
       "    </tr>\n",
       "    <tr>\n",
       "      <th>4</th>\n",
       "      <td>20112</td>\n",
       "      <td>TI</td>\n",
       "      <td>URBANO</td>\n",
       "      <td>N</td>\n",
       "      <td>A</td>\n",
       "      <td>ACADÉMICO</td>\n",
       "      <td>VALLE</td>\n",
       "      <td>MIXTO</td>\n",
       "      <td>MAÑANA</td>\n",
       "      <td>CALIMA</td>\n",
       "      <td>...</td>\n",
       "      <td>COLOMBIA</td>\n",
       "      <td>N</td>\n",
       "      <td>Primaria incompleta</td>\n",
       "      <td>Primaria incompleta</td>\n",
       "      <td>Estrato 2</td>\n",
       "      <td>No</td>\n",
       "      <td>No</td>\n",
       "      <td>A-</td>\n",
       "      <td>43.0</td>\n",
       "      <td>inferior</td>\n",
       "    </tr>\n",
       "  </tbody>\n",
       "</table>\n",
       "<p>5 rows × 29 columns</p>\n",
       "</div>"
      ],
      "text/plain": [
       "   periodo estu_tipodocumento cole_area_ubicacion cole_bilingue  \\\n",
       "0    20112                 TI              URBANO             N   \n",
       "1    20112                 TI              URBANO             N   \n",
       "2    20112                 TI              URBANO             N   \n",
       "3    20112                 TI              URBANO             N   \n",
       "4    20112                 TI              URBANO             N   \n",
       "\n",
       "  cole_calendario cole_caracter cole_depto_ubicacion cole_genero cole_jornada  \\\n",
       "0               A       TÉCNICO         CUNDINAMARCA       MIXTO       MAÑANA   \n",
       "1               A     ACADÉMICO                CAUCA       MIXTO       MAÑANA   \n",
       "2               A     ACADÉMICO               BOGOTA       MIXTO       MAÑANA   \n",
       "3               A     ACADÉMICO            ANTIOQUIA       MIXTO       MAÑANA   \n",
       "4               A     ACADÉMICO                VALLE       MIXTO       MAÑANA   \n",
       "\n",
       "  cole_mcpio_ubicacion  ... estu_pais_reside estu_privado_libertad  \\\n",
       "0           FUSAGASUGÁ  ...         COLOMBIA                     N   \n",
       "1                PATÍA  ...         COLOMBIA                     N   \n",
       "2          BOGOTÁ D.C.  ...         COLOMBIA                     N   \n",
       "3              VENECIA  ...         COLOMBIA                     N   \n",
       "4               CALIMA  ...         COLOMBIA                     N   \n",
       "\n",
       "                    fami_educacionmadre                 fami_educacionpadre  \\\n",
       "0                     Primaria completa                   Primaria completa   \n",
       "1  Secundaria (Bachillerato) incompleta  Secundaria (Bachillerato) completa   \n",
       "2    Secundaria (Bachillerato) completa      Educación profesional completa   \n",
       "3  Secundaria (Bachillerato) incompleta                             Ninguno   \n",
       "4                   Primaria incompleta                 Primaria incompleta   \n",
       "\n",
       "  fami_estratovivienda fami_tienecomputador fami_tieneinternet desemp_ingles  \\\n",
       "0            Estrato 2                   No                 No            A-   \n",
       "1            Estrato 1                   Si                 No            A1   \n",
       "2            Estrato 2                   Si                 No            A-   \n",
       "3            Estrato 2                   No                 No            A1   \n",
       "4            Estrato 2                   No                 No            A-   \n",
       "\n",
       "  punt_ingles resultado  \n",
       "0        41.0  inferior  \n",
       "1        47.0  inferior  \n",
       "2        36.0  inferior  \n",
       "3        43.0  inferior  \n",
       "4        43.0  inferior  \n",
       "\n",
       "[5 rows x 29 columns]"
      ]
     },
     "execution_count": 16,
     "metadata": {},
     "output_type": "execute_result"
    }
   ],
   "source": [
    "def clasificar(row):\n",
    "    inferior = [\"A-\",\"A1\"]\n",
    "    promedio = [\"A2\"]\n",
    "    exitoso = [\"B1\",\"B+\"]\n",
    "    r = None\n",
    "    if str(row[\"desemp_ingles\"]) in inferior:\n",
    "        r = \"inferior\"\n",
    "    elif str(row[\"desemp_ingles\"]) in promedio:\n",
    "        r = \"promedio\"\n",
    "    elif str(row[\"desemp_ingles\"]) in exitoso:\n",
    "        r = \"exitoso\"\n",
    "    return r\n",
    "\n",
    "datos[\"resultado\"] = datos.apply(clasificar,axis=1)\n",
    "datos.head()"
   ]
  },
  {
   "cell_type": "markdown",
   "id": "df239154",
   "metadata": {},
   "source": [
    "Conteo de datos por clases de características relevantes."
   ]
  },
  {
   "cell_type": "code",
   "execution_count": 17,
   "id": "efbf6fac",
   "metadata": {},
   "outputs": [
    {
     "data": {
      "text/plain": [
       "resultado\n",
       "inferior    445507\n",
       "promedio     31178\n",
       "exitoso      17409\n",
       "Name: count, dtype: int64"
      ]
     },
     "execution_count": 17,
     "metadata": {},
     "output_type": "execute_result"
    }
   ],
   "source": [
    "datos[\"resultado\"].value_counts()"
   ]
  },
  {
   "cell_type": "code",
   "execution_count": 18,
   "id": "54dc9e9f",
   "metadata": {},
   "outputs": [
    {
     "data": {
      "text/plain": [
       "desemp_ingles\n",
       "A-    273948\n",
       "A1    171559\n",
       "A2     31178\n",
       "B1     14099\n",
       "B+      3310\n",
       "Name: count, dtype: int64"
      ]
     },
     "execution_count": 18,
     "metadata": {},
     "output_type": "execute_result"
    }
   ],
   "source": [
    "datos[\"desemp_ingles\"].value_counts()"
   ]
  },
  {
   "cell_type": "markdown",
   "id": "1866f6ff",
   "metadata": {},
   "source": [
    "Transformación de la columna periodo."
   ]
  },
  {
   "cell_type": "code",
   "execution_count": 19,
   "id": "d2cb3f14",
   "metadata": {},
   "outputs": [
    {
     "data": {
      "text/html": [
       "<div>\n",
       "<style scoped>\n",
       "    .dataframe tbody tr th:only-of-type {\n",
       "        vertical-align: middle;\n",
       "    }\n",
       "\n",
       "    .dataframe tbody tr th {\n",
       "        vertical-align: top;\n",
       "    }\n",
       "\n",
       "    .dataframe thead th {\n",
       "        text-align: right;\n",
       "    }\n",
       "</style>\n",
       "<table border=\"1\" class=\"dataframe\">\n",
       "  <thead>\n",
       "    <tr style=\"text-align: right;\">\n",
       "      <th></th>\n",
       "      <th>periodo</th>\n",
       "      <th>estu_tipodocumento</th>\n",
       "      <th>cole_area_ubicacion</th>\n",
       "      <th>cole_bilingue</th>\n",
       "      <th>cole_calendario</th>\n",
       "      <th>cole_caracter</th>\n",
       "      <th>cole_depto_ubicacion</th>\n",
       "      <th>cole_genero</th>\n",
       "      <th>cole_jornada</th>\n",
       "      <th>cole_mcpio_ubicacion</th>\n",
       "      <th>...</th>\n",
       "      <th>estu_pais_reside</th>\n",
       "      <th>estu_privado_libertad</th>\n",
       "      <th>fami_educacionmadre</th>\n",
       "      <th>fami_educacionpadre</th>\n",
       "      <th>fami_estratovivienda</th>\n",
       "      <th>fami_tienecomputador</th>\n",
       "      <th>fami_tieneinternet</th>\n",
       "      <th>desemp_ingles</th>\n",
       "      <th>punt_ingles</th>\n",
       "      <th>resultado</th>\n",
       "    </tr>\n",
       "  </thead>\n",
       "  <tbody>\n",
       "    <tr>\n",
       "      <th>0</th>\n",
       "      <td>2</td>\n",
       "      <td>TI</td>\n",
       "      <td>URBANO</td>\n",
       "      <td>N</td>\n",
       "      <td>A</td>\n",
       "      <td>TÉCNICO</td>\n",
       "      <td>CUNDINAMARCA</td>\n",
       "      <td>MIXTO</td>\n",
       "      <td>MAÑANA</td>\n",
       "      <td>FUSAGASUGÁ</td>\n",
       "      <td>...</td>\n",
       "      <td>COLOMBIA</td>\n",
       "      <td>N</td>\n",
       "      <td>Primaria completa</td>\n",
       "      <td>Primaria completa</td>\n",
       "      <td>Estrato 2</td>\n",
       "      <td>No</td>\n",
       "      <td>No</td>\n",
       "      <td>A-</td>\n",
       "      <td>41.0</td>\n",
       "      <td>inferior</td>\n",
       "    </tr>\n",
       "    <tr>\n",
       "      <th>1</th>\n",
       "      <td>2</td>\n",
       "      <td>TI</td>\n",
       "      <td>URBANO</td>\n",
       "      <td>N</td>\n",
       "      <td>A</td>\n",
       "      <td>ACADÉMICO</td>\n",
       "      <td>CAUCA</td>\n",
       "      <td>MIXTO</td>\n",
       "      <td>MAÑANA</td>\n",
       "      <td>PATÍA</td>\n",
       "      <td>...</td>\n",
       "      <td>COLOMBIA</td>\n",
       "      <td>N</td>\n",
       "      <td>Secundaria (Bachillerato) incompleta</td>\n",
       "      <td>Secundaria (Bachillerato) completa</td>\n",
       "      <td>Estrato 1</td>\n",
       "      <td>Si</td>\n",
       "      <td>No</td>\n",
       "      <td>A1</td>\n",
       "      <td>47.0</td>\n",
       "      <td>inferior</td>\n",
       "    </tr>\n",
       "    <tr>\n",
       "      <th>2</th>\n",
       "      <td>2</td>\n",
       "      <td>TI</td>\n",
       "      <td>URBANO</td>\n",
       "      <td>N</td>\n",
       "      <td>A</td>\n",
       "      <td>ACADÉMICO</td>\n",
       "      <td>BOGOTA</td>\n",
       "      <td>MIXTO</td>\n",
       "      <td>MAÑANA</td>\n",
       "      <td>BOGOTÁ D.C.</td>\n",
       "      <td>...</td>\n",
       "      <td>COLOMBIA</td>\n",
       "      <td>N</td>\n",
       "      <td>Secundaria (Bachillerato) completa</td>\n",
       "      <td>Educación profesional completa</td>\n",
       "      <td>Estrato 2</td>\n",
       "      <td>Si</td>\n",
       "      <td>No</td>\n",
       "      <td>A-</td>\n",
       "      <td>36.0</td>\n",
       "      <td>inferior</td>\n",
       "    </tr>\n",
       "    <tr>\n",
       "      <th>3</th>\n",
       "      <td>2</td>\n",
       "      <td>TI</td>\n",
       "      <td>URBANO</td>\n",
       "      <td>N</td>\n",
       "      <td>A</td>\n",
       "      <td>ACADÉMICO</td>\n",
       "      <td>ANTIOQUIA</td>\n",
       "      <td>MIXTO</td>\n",
       "      <td>MAÑANA</td>\n",
       "      <td>VENECIA</td>\n",
       "      <td>...</td>\n",
       "      <td>COLOMBIA</td>\n",
       "      <td>N</td>\n",
       "      <td>Secundaria (Bachillerato) incompleta</td>\n",
       "      <td>Ninguno</td>\n",
       "      <td>Estrato 2</td>\n",
       "      <td>No</td>\n",
       "      <td>No</td>\n",
       "      <td>A1</td>\n",
       "      <td>43.0</td>\n",
       "      <td>inferior</td>\n",
       "    </tr>\n",
       "    <tr>\n",
       "      <th>4</th>\n",
       "      <td>2</td>\n",
       "      <td>TI</td>\n",
       "      <td>URBANO</td>\n",
       "      <td>N</td>\n",
       "      <td>A</td>\n",
       "      <td>ACADÉMICO</td>\n",
       "      <td>VALLE</td>\n",
       "      <td>MIXTO</td>\n",
       "      <td>MAÑANA</td>\n",
       "      <td>CALIMA</td>\n",
       "      <td>...</td>\n",
       "      <td>COLOMBIA</td>\n",
       "      <td>N</td>\n",
       "      <td>Primaria incompleta</td>\n",
       "      <td>Primaria incompleta</td>\n",
       "      <td>Estrato 2</td>\n",
       "      <td>No</td>\n",
       "      <td>No</td>\n",
       "      <td>A-</td>\n",
       "      <td>43.0</td>\n",
       "      <td>inferior</td>\n",
       "    </tr>\n",
       "  </tbody>\n",
       "</table>\n",
       "<p>5 rows × 29 columns</p>\n",
       "</div>"
      ],
      "text/plain": [
       "   periodo estu_tipodocumento cole_area_ubicacion cole_bilingue  \\\n",
       "0        2                 TI              URBANO             N   \n",
       "1        2                 TI              URBANO             N   \n",
       "2        2                 TI              URBANO             N   \n",
       "3        2                 TI              URBANO             N   \n",
       "4        2                 TI              URBANO             N   \n",
       "\n",
       "  cole_calendario cole_caracter cole_depto_ubicacion cole_genero cole_jornada  \\\n",
       "0               A       TÉCNICO         CUNDINAMARCA       MIXTO       MAÑANA   \n",
       "1               A     ACADÉMICO                CAUCA       MIXTO       MAÑANA   \n",
       "2               A     ACADÉMICO               BOGOTA       MIXTO       MAÑANA   \n",
       "3               A     ACADÉMICO            ANTIOQUIA       MIXTO       MAÑANA   \n",
       "4               A     ACADÉMICO                VALLE       MIXTO       MAÑANA   \n",
       "\n",
       "  cole_mcpio_ubicacion  ... estu_pais_reside estu_privado_libertad  \\\n",
       "0           FUSAGASUGÁ  ...         COLOMBIA                     N   \n",
       "1                PATÍA  ...         COLOMBIA                     N   \n",
       "2          BOGOTÁ D.C.  ...         COLOMBIA                     N   \n",
       "3              VENECIA  ...         COLOMBIA                     N   \n",
       "4               CALIMA  ...         COLOMBIA                     N   \n",
       "\n",
       "                    fami_educacionmadre                 fami_educacionpadre  \\\n",
       "0                     Primaria completa                   Primaria completa   \n",
       "1  Secundaria (Bachillerato) incompleta  Secundaria (Bachillerato) completa   \n",
       "2    Secundaria (Bachillerato) completa      Educación profesional completa   \n",
       "3  Secundaria (Bachillerato) incompleta                             Ninguno   \n",
       "4                   Primaria incompleta                 Primaria incompleta   \n",
       "\n",
       "  fami_estratovivienda fami_tienecomputador fami_tieneinternet desemp_ingles  \\\n",
       "0            Estrato 2                   No                 No            A-   \n",
       "1            Estrato 1                   Si                 No            A1   \n",
       "2            Estrato 2                   Si                 No            A-   \n",
       "3            Estrato 2                   No                 No            A1   \n",
       "4            Estrato 2                   No                 No            A-   \n",
       "\n",
       "  punt_ingles resultado  \n",
       "0        41.0  inferior  \n",
       "1        47.0  inferior  \n",
       "2        36.0  inferior  \n",
       "3        43.0  inferior  \n",
       "4        43.0  inferior  \n",
       "\n",
       "[5 rows x 29 columns]"
      ]
     },
     "execution_count": 19,
     "metadata": {},
     "output_type": "execute_result"
    }
   ],
   "source": [
    "datos[\"periodo\"] = datos[\"periodo\"].apply(lambda x: x-20110)\n",
    "datos.head()"
   ]
  },
  {
   "cell_type": "code",
   "execution_count": 20,
   "id": "274cb76a",
   "metadata": {},
   "outputs": [
    {
     "data": {
      "text/plain": [
       "periodo\n",
       "2    467631\n",
       "1     26463\n",
       "Name: count, dtype: int64"
      ]
     },
     "execution_count": 20,
     "metadata": {},
     "output_type": "execute_result"
    }
   ],
   "source": [
    "datos[\"periodo\"].value_counts()"
   ]
  },
  {
   "cell_type": "markdown",
   "id": "948b619c",
   "metadata": {},
   "source": [
    "Creación del archivo con los datos limpios."
   ]
  },
  {
   "cell_type": "code",
   "execution_count": 23,
   "id": "5db16a55",
   "metadata": {},
   "outputs": [],
   "source": [
    "datos.to_csv(\"..//..//Datos2011Limipios.csv\",sep=\",\",index=False)"
   ]
  }
 ],
 "metadata": {
  "kernelspec": {
   "display_name": "Python 3",
   "language": "python",
   "name": "python3"
  },
  "language_info": {
   "codemirror_mode": {
    "name": "ipython",
    "version": 3
   },
   "file_extension": ".py",
   "mimetype": "text/x-python",
   "name": "python",
   "nbconvert_exporter": "python",
   "pygments_lexer": "ipython3",
   "version": "3.11.9"
  }
 },
 "nbformat": 4,
 "nbformat_minor": 5
}
