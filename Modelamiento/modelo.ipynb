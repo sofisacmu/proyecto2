{
 "cells": [
  {
   "cell_type": "code",
   "execution_count": 3,
   "id": "551307ad",
   "metadata": {},
   "outputs": [],
   "source": [
    "import numpy as np\n",
    "import mlflow\n",
    "import mlflow.keras\n",
    "import tensorflow as tf\n",
    "from tensorflow.keras.models import Sequential\n",
    "from tensorflow.keras.layers import Dense\n",
    "from tensorflow.keras.optimizers import Adam\n",
    "from sklearn.utils import class_weight\n",
    "from sklearn.model_selection import train_test_split\n",
    "from sklearn.preprocessing import LabelEncoder\n",
    "import pandas as pd\n",
    "import pickle\n",
    "import os"
   ]
  },
  {
   "cell_type": "code",
   "execution_count": 4,
   "id": "1ec2f994",
   "metadata": {},
   "outputs": [],
   "source": [
    "df = pd.read_csv(\"C:/Users/sofia/Downloads/Repositorios analítica/analítica/proyecto2/Datos/Datos2011Limipios.csv\")"
   ]
  },
  {
   "cell_type": "code",
   "execution_count": 5,
   "id": "8caf0c57",
   "metadata": {},
   "outputs": [],
   "source": [
    "def create_encoders_and_transform(df, categorical_columns):\n",
    "    \"\"\"\n",
    "    Crea encoders para binarias y dummies para categóricas de más de 2 clases.\n",
    "    Devuelve el DataFrame procesado, diccionario de encoders y columnas finales.\n",
    "    \"\"\"\n",
    "    encoders = {}\n",
    "    df_encoded = df.copy()\n",
    "\n",
    "    binary_columns = []\n",
    "    multi_columns = []\n",
    "\n",
    "    # Detectar cuáles columnas son binarias o multinivel\n",
    "    for col in categorical_columns:\n",
    "        if col in df_encoded.columns:\n",
    "            # Limpiar valores nulos y convertir a string\n",
    "            df_encoded[col] = df_encoded[col].fillna('unknown').astype(str)\n",
    "            unique_values = df_encoded[col].nunique()\n",
    "            \n",
    "            if unique_values == 2:\n",
    "                binary_columns.append(col)\n",
    "            elif unique_values > 2:\n",
    "                multi_columns.append(col)\n",
    "\n",
    "    # Codificar las binarias con LabelEncoder\n",
    "    for col in binary_columns:\n",
    "        le = LabelEncoder()\n",
    "        df_encoded[col] = le.fit_transform(df_encoded[col])\n",
    "        encoders[col] = le\n",
    "\n",
    "    # Crear dummies para las multinivel\n",
    "    if multi_columns:\n",
    "        # Obtener las columnas a convertir en dummies\n",
    "        df_multi = df_encoded[multi_columns].copy()\n",
    "        \n",
    "        # Crear dummies\n",
    "        df_dummies = pd.get_dummies(df_multi, prefix=multi_columns, drop_first=True, dtype=int)\n",
    "        \n",
    "        # Eliminar columnas originales y agregar dummies\n",
    "        df_encoded = df_encoded.drop(columns=multi_columns)\n",
    "        df_encoded = pd.concat([df_encoded, df_dummies], axis=1)\n",
    "    \n",
    "    # Asegurar que todas las columnas sean numéricas\n",
    "    for col in df_encoded.columns:\n",
    "        if df_encoded[col].dtype == 'object':\n",
    "            try:\n",
    "                # Intentar convertir a numérico\n",
    "                df_encoded[col] = pd.to_numeric(df_encoded[col], errors='coerce')\n",
    "                # Llenar NaN con 0\n",
    "                df_encoded[col] = df_encoded[col].fillna(0)\n",
    "            except:\n",
    "                # Si falla, usar LabelEncoder como último recurso\n",
    "                le = LabelEncoder()\n",
    "                df_encoded[col] = le.fit_transform(df_encoded[col].astype(str))\n",
    "                encoders[f\"{col}_emergency\"] = le\n",
    "    \n",
    "    # Convertir todas las columnas a float32 para consistencia\n",
    "    for col in df_encoded.columns:\n",
    "        df_encoded[col] = df_encoded[col].astype('float32')\n",
    "\n",
    "    return df_encoded, encoders"
   ]
  },
  {
   "cell_type": "code",
   "execution_count": 6,
   "id": "6e41e0bf",
   "metadata": {},
   "outputs": [],
   "source": [
    "def transform_new_data(new_data, encoders, reference_columns):\n",
    "    \"\"\"\n",
    "    Transforma nuevos datos con los mismos encoders y columnas que el entrenamiento.\n",
    "    \"\"\"\n",
    "    new_data_encoded = new_data.copy()\n",
    "    \n",
    "    # Identificar columnas binarias (que tienen encoder) y multinivel\n",
    "    binary_columns = [col for col in encoders.keys() if not col.endswith('_emergency')]\n",
    "    \n",
    "    # Limpiar y preparar datos\n",
    "    for col in new_data_encoded.columns:\n",
    "        if new_data_encoded[col].dtype == 'object':\n",
    "            new_data_encoded[col] = new_data_encoded[col].fillna('unknown').astype(str)\n",
    "\n",
    "    # Aplicar LabelEncoder a columnas binarias\n",
    "    for col in binary_columns:\n",
    "        if col in new_data_encoded.columns:\n",
    "            try:\n",
    "                # Manejar valores no vistos durante el entrenamiento\n",
    "                unique_values = set(new_data_encoded[col].unique())\n",
    "                encoder_classes = set(encoders[col].classes_)\n",
    "                \n",
    "                # Si hay valores nuevos, mapearlos al primer valor conocido\n",
    "                if not unique_values.issubset(encoder_classes):\n",
    "                    unknown_values = unique_values - encoder_classes\n",
    "                    for unknown_val in unknown_values:\n",
    "                        new_data_encoded[col] = new_data_encoded[col].replace(\n",
    "                            unknown_val, encoders[col].classes_[0]\n",
    "                        )\n",
    "                \n",
    "                new_data_encoded[col] = encoders[col].transform(new_data_encoded[col])\n",
    "            except Exception as e:\n",
    "                print(f\"Error en columna {col}: {e}\")\n",
    "                new_data_encoded[col] = 0  # Valor por defecto\n",
    "\n",
    "    # Identificar columnas multinivel de los datos de referencia\n",
    "    dummy_columns = [col for col in reference_columns \n",
    "                    if any(col.startswith(f\"{bc}_\") for bc in binary_columns) == False]\n",
    "    \n",
    "    # Crear dummies para columnas multinivel\n",
    "    multi_columns_in_data = []\n",
    "    for ref_col in dummy_columns:\n",
    "        # Extraer el nombre base de la columna dummy\n",
    "        for original_col in new_data_encoded.columns:\n",
    "            if ref_col.startswith(f\"{original_col}_\") and original_col not in binary_columns:\n",
    "                if original_col not in multi_columns_in_data:\n",
    "                    multi_columns_in_data.append(original_col)\n",
    "    \n",
    "    if multi_columns_in_data:\n",
    "        # Crear dummies\n",
    "        df_multi = new_data_encoded[multi_columns_in_data].copy()\n",
    "        \n",
    "        # Asegurar que los valores sean strings\n",
    "        for col in multi_columns_in_data:\n",
    "            df_multi[col] = df_multi[col].astype(str)\n",
    "        \n",
    "        df_dummies = pd.get_dummies(df_multi, prefix=multi_columns_in_data, drop_first=True, dtype=int)\n",
    "        \n",
    "        # Eliminar columnas originales y agregar dummies\n",
    "        new_data_encoded = new_data_encoded.drop(columns=multi_columns_in_data, errors='ignore')\n",
    "        new_data_encoded = pd.concat([new_data_encoded, df_dummies], axis=1)\n",
    "\n",
    "    # Asegurar que tenga todas las columnas de referencia\n",
    "    for col in reference_columns:\n",
    "        if col not in new_data_encoded.columns:\n",
    "            new_data_encoded[col] = 0\n",
    "\n",
    "    # Reindexar con las columnas de referencia\n",
    "    new_data_encoded = new_data_encoded.reindex(columns=reference_columns, fill_value=0)\n",
    "    \n",
    "    # Asegurar que todas las columnas sean numéricas\n",
    "    for col in new_data_encoded.columns:\n",
    "        if new_data_encoded[col].dtype == 'object':\n",
    "            try:\n",
    "                new_data_encoded[col] = pd.to_numeric(new_data_encoded[col], errors='coerce')\n",
    "                new_data_encoded[col] = new_data_encoded[col].fillna(0)\n",
    "            except:\n",
    "                # Como último recurso, convertir usando un encoder temporal\n",
    "                le_temp = LabelEncoder()\n",
    "                new_data_encoded[col] = le_temp.fit_transform(new_data_encoded[col].astype(str))\n",
    "    \n",
    "    # Convertir todas las columnas a float32 para consistencia\n",
    "    for col in new_data_encoded.columns:\n",
    "        new_data_encoded[col] = new_data_encoded[col].astype('float32')\n",
    "\n",
    "    return new_data_encoded"
   ]
  },
  {
   "cell_type": "code",
   "execution_count": 11,
   "id": "43d97db6",
   "metadata": {},
   "outputs": [],
   "source": [
    "categorical_columns = ['cole_depto_ubicacion', 'cole_jornada', \n",
    "                      'cole_naturaleza', 'fami_educacionmadre', 'fami_educacionpadre', \n",
    "                      'fami_estratovivienda']"
   ]
  },
  {
   "cell_type": "code",
   "execution_count": 12,
   "id": "524e46ca",
   "metadata": {},
   "outputs": [],
   "source": [
    "df_processed, encoders = create_encoders_and_transform(df, categorical_columns)"
   ]
  },
  {
   "cell_type": "code",
   "execution_count": 13,
   "id": "ac266006",
   "metadata": {},
   "outputs": [],
   "source": [
    "feature_columns = [col for col in df_processed.columns if col != 'resultado']\n",
    "X = df_processed[feature_columns]\n",
    "y = df['resultado']\n",
    "y = y.map({'no_exitoso': 0, 'exitoso': 1})"
   ]
  },
  {
   "cell_type": "code",
   "execution_count": 14,
   "id": "05193b23",
   "metadata": {},
   "outputs": [],
   "source": [
    "columns_info = {\n",
    "    'feature_columns': list(X.columns),\n",
    "    'encoders': encoders,\n",
    "    'categorical_columns': categorical_columns\n",
    "}"
   ]
  },
  {
   "cell_type": "code",
   "execution_count": 15,
   "id": "5e49bdd7",
   "metadata": {},
   "outputs": [],
   "source": [
    "X_train, X_test, y_train, y_test = train_test_split(X, y, test_size=0.2, random_state=42, stratify=y)"
   ]
  },
  {
   "cell_type": "code",
   "execution_count": 16,
   "id": "a8bf8465",
   "metadata": {},
   "outputs": [],
   "source": [
    "weights = class_weight.compute_class_weight('balanced', classes=np.unique(y), y=y)\n",
    "class_weights = {cls: weight for cls, weight in zip(np.unique(y), weights)}"
   ]
  },
  {
   "cell_type": "code",
   "execution_count": 17,
   "id": "5d3e86fe",
   "metadata": {},
   "outputs": [],
   "source": [
    "def create_model(input_dim, hidden_units, learning_rate):\n",
    "    model = Sequential()\n",
    "    model.add(Dense(hidden_units, activation='relu', input_dim=input_dim))\n",
    "    model.add(Dense(1, activation='sigmoid'))\n",
    "    model.compile(optimizer=Adam(learning_rate=learning_rate), \n",
    "                  loss='binary_crossentropy', \n",
    "                  metrics=['accuracy'])\n",
    "    return model"
   ]
  },
  {
   "cell_type": "code",
   "execution_count": 18,
   "id": "973cb4ca",
   "metadata": {},
   "outputs": [],
   "source": [
    "mlflow.set_tracking_uri('http://localhost:5000')\n",
    "experiment_name = \"icfes2011\""
   ]
  },
  {
   "cell_type": "code",
   "execution_count": 19,
   "id": "1777a1e3",
   "metadata": {},
   "outputs": [
    {
     "name": "stdout",
     "output_type": "stream",
     "text": [
      "Usando experimento existente con ID: 690124376614287936\n"
     ]
    }
   ],
   "source": [
    "try:\n",
    "    experiment_id = mlflow.create_experiment(experiment_name)\n",
    "    print(f\"Experimento creado con ID: {experiment_id}\")\n",
    "except mlflow.exceptions.MlflowException:\n",
    "    experiment = mlflow.get_experiment_by_name(experiment_name)\n",
    "    experiment_id = experiment.experiment_id\n",
    "    print(f\"Usando experimento existente con ID: {experiment_id}\")"
   ]
  },
  {
   "cell_type": "code",
   "execution_count": 20,
   "id": "66cecb4d",
   "metadata": {},
   "outputs": [
    {
     "data": {
      "text/plain": [
       "<Experiment: artifact_location='mlflow-artifacts:/690124376614287936', creation_time=1748128300681, experiment_id='690124376614287936', last_update_time=1748128300681, lifecycle_stage='active', name='icfes2011', tags={}>"
      ]
     },
     "execution_count": 20,
     "metadata": {},
     "output_type": "execute_result"
    }
   ],
   "source": [
    "mlflow.set_experiment(experiment_name)"
   ]
  },
  {
   "cell_type": "code",
   "execution_count": 21,
   "id": "d7b74269",
   "metadata": {},
   "outputs": [],
   "source": [
    "batch_sizes = [30, 120, 200]\n",
    "epochs_list = [5, 10, 15]\n",
    "learning_rates = [0.001, 0.01, 0.05]\n",
    "hidden_units_list = [300, 400, 500]"
   ]
  },
  {
   "cell_type": "code",
   "execution_count": 22,
   "id": "d0fca401",
   "metadata": {},
   "outputs": [],
   "source": [
    "best_accuracy = 0\n",
    "best_model_info = {}\n",
    "best_run_id = \"\""
   ]
  },
  {
   "cell_type": "code",
   "execution_count": 23,
   "id": "81fa7cb4",
   "metadata": {},
   "outputs": [],
   "source": [
    "os.makedirs(\"modelos_guardados\", exist_ok=True)"
   ]
  },
  {
   "cell_type": "code",
   "execution_count": null,
   "id": "5fb5206c",
   "metadata": {},
   "outputs": [
    {
     "name": "stdout",
     "output_type": "stream",
     "text": [
      "Experimento 1/81: batch_size=30, epochs=5, learning_rate=0.001, hidden_units=300\n"
     ]
    },
    {
     "name": "stderr",
     "output_type": "stream",
     "text": [
      "c:\\Users\\sofia\\AppData\\Local\\Programs\\Python\\Python311\\Lib\\site-packages\\keras\\src\\layers\\core\\dense.py:87: UserWarning: Do not pass an `input_shape`/`input_dim` argument to a layer. When using Sequential models, prefer using an `Input(shape)` object as the first layer in the model instead.\n",
      "  super().__init__(activity_regularizer=activity_regularizer, **kwargs)\n",
      "2025/05/24 18:29:13 WARNING mlflow.keras.save: You are saving a Keras model without specifying model signature.\n",
      "2025/05/24 18:29:30 WARNING mlflow.models.model: Model logged without a signature and input example. Please set `input_example` parameter when logging the model to auto infer the model signature.\n"
     ]
    },
    {
     "name": "stdout",
     "output_type": "stream",
     "text": [
      "   Nuevo mejor modelo. Accuracy: 0.9649\n",
      "🏃 View run exp_1 at: http://localhost:5000/#/experiments/690124376614287936/runs/824925c7b06c4354bd2fac95f67fab07\n",
      "🧪 View experiment at: http://localhost:5000/#/experiments/690124376614287936\n",
      "Experimento 2/81: batch_size=30, epochs=5, learning_rate=0.001, hidden_units=400\n"
     ]
    },
    {
     "name": "stderr",
     "output_type": "stream",
     "text": [
      "c:\\Users\\sofia\\AppData\\Local\\Programs\\Python\\Python311\\Lib\\site-packages\\keras\\src\\layers\\core\\dense.py:87: UserWarning: Do not pass an `input_shape`/`input_dim` argument to a layer. When using Sequential models, prefer using an `Input(shape)` object as the first layer in the model instead.\n",
      "  super().__init__(activity_regularizer=activity_regularizer, **kwargs)\n",
      "2025/05/24 18:30:46 WARNING mlflow.keras.save: You are saving a Keras model without specifying model signature.\n",
      "2025/05/24 18:30:53 WARNING mlflow.models.model: Model logged without a signature and input example. Please set `input_example` parameter when logging the model to auto infer the model signature.\n"
     ]
    },
    {
     "name": "stdout",
     "output_type": "stream",
     "text": [
      "   Nuevo mejor modelo. Accuracy: 0.9800\n",
      "🏃 View run exp_2 at: http://localhost:5000/#/experiments/690124376614287936/runs/e79bbbd03b2e4660ba0baaf4e1b9719d\n",
      "🧪 View experiment at: http://localhost:5000/#/experiments/690124376614287936\n",
      "Experimento 3/81: batch_size=30, epochs=5, learning_rate=0.001, hidden_units=500\n"
     ]
    },
    {
     "name": "stderr",
     "output_type": "stream",
     "text": [
      "c:\\Users\\sofia\\AppData\\Local\\Programs\\Python\\Python311\\Lib\\site-packages\\keras\\src\\layers\\core\\dense.py:87: UserWarning: Do not pass an `input_shape`/`input_dim` argument to a layer. When using Sequential models, prefer using an `Input(shape)` object as the first layer in the model instead.\n",
      "  super().__init__(activity_regularizer=activity_regularizer, **kwargs)\n",
      "2025/05/24 18:32:12 WARNING mlflow.keras.save: You are saving a Keras model without specifying model signature.\n",
      "2025/05/24 18:32:20 WARNING mlflow.models.model: Model logged without a signature and input example. Please set `input_example` parameter when logging the model to auto infer the model signature.\n"
     ]
    },
    {
     "name": "stdout",
     "output_type": "stream",
     "text": [
      "   Nuevo mejor modelo. Accuracy: 0.9914\n",
      "🏃 View run exp_3 at: http://localhost:5000/#/experiments/690124376614287936/runs/f4efbca5910544968354abf1d797d4a5\n",
      "🧪 View experiment at: http://localhost:5000/#/experiments/690124376614287936\n",
      "Experimento 4/81: batch_size=30, epochs=5, learning_rate=0.01, hidden_units=300\n"
     ]
    },
    {
     "name": "stderr",
     "output_type": "stream",
     "text": [
      "c:\\Users\\sofia\\AppData\\Local\\Programs\\Python\\Python311\\Lib\\site-packages\\keras\\src\\layers\\core\\dense.py:87: UserWarning: Do not pass an `input_shape`/`input_dim` argument to a layer. When using Sequential models, prefer using an `Input(shape)` object as the first layer in the model instead.\n",
      "  super().__init__(activity_regularizer=activity_regularizer, **kwargs)\n",
      "2025/05/24 18:33:34 WARNING mlflow.keras.save: You are saving a Keras model without specifying model signature.\n",
      "2025/05/24 18:33:45 WARNING mlflow.models.model: Model logged without a signature and input example. Please set `input_example` parameter when logging the model to auto infer the model signature.\n"
     ]
    },
    {
     "name": "stdout",
     "output_type": "stream",
     "text": [
      "🏃 View run exp_4 at: http://localhost:5000/#/experiments/690124376614287936/runs/9d6bcd1c66554119b267d8535bbf5a7c\n",
      "🧪 View experiment at: http://localhost:5000/#/experiments/690124376614287936\n",
      "Experimento 5/81: batch_size=30, epochs=5, learning_rate=0.01, hidden_units=400\n"
     ]
    },
    {
     "name": "stderr",
     "output_type": "stream",
     "text": [
      "c:\\Users\\sofia\\AppData\\Local\\Programs\\Python\\Python311\\Lib\\site-packages\\keras\\src\\layers\\core\\dense.py:87: UserWarning: Do not pass an `input_shape`/`input_dim` argument to a layer. When using Sequential models, prefer using an `Input(shape)` object as the first layer in the model instead.\n",
      "  super().__init__(activity_regularizer=activity_regularizer, **kwargs)\n",
      "2025/05/24 18:34:58 WARNING mlflow.keras.save: You are saving a Keras model without specifying model signature.\n",
      "2025/05/24 18:35:06 WARNING mlflow.models.model: Model logged without a signature and input example. Please set `input_example` parameter when logging the model to auto infer the model signature.\n"
     ]
    },
    {
     "name": "stdout",
     "output_type": "stream",
     "text": [
      "🏃 View run exp_5 at: http://localhost:5000/#/experiments/690124376614287936/runs/aad3795924154c27b1c7bdfbc94d97e9\n",
      "🧪 View experiment at: http://localhost:5000/#/experiments/690124376614287936\n",
      "Experimento 6/81: batch_size=30, epochs=5, learning_rate=0.01, hidden_units=500\n"
     ]
    },
    {
     "name": "stderr",
     "output_type": "stream",
     "text": [
      "c:\\Users\\sofia\\AppData\\Local\\Programs\\Python\\Python311\\Lib\\site-packages\\keras\\src\\layers\\core\\dense.py:87: UserWarning: Do not pass an `input_shape`/`input_dim` argument to a layer. When using Sequential models, prefer using an `Input(shape)` object as the first layer in the model instead.\n",
      "  super().__init__(activity_regularizer=activity_regularizer, **kwargs)\n",
      "2025/05/24 18:36:20 WARNING mlflow.keras.save: You are saving a Keras model without specifying model signature.\n",
      "2025/05/24 18:36:28 WARNING mlflow.models.model: Model logged without a signature and input example. Please set `input_example` parameter when logging the model to auto infer the model signature.\n"
     ]
    },
    {
     "name": "stdout",
     "output_type": "stream",
     "text": [
      "   Nuevo mejor modelo. Accuracy: 0.9950\n",
      "🏃 View run exp_6 at: http://localhost:5000/#/experiments/690124376614287936/runs/ec3aa0adc22941958d5e02f861a0f3e2\n",
      "🧪 View experiment at: http://localhost:5000/#/experiments/690124376614287936\n",
      "Experimento 7/81: batch_size=30, epochs=5, learning_rate=0.05, hidden_units=300\n"
     ]
    },
    {
     "name": "stderr",
     "output_type": "stream",
     "text": [
      "c:\\Users\\sofia\\AppData\\Local\\Programs\\Python\\Python311\\Lib\\site-packages\\keras\\src\\layers\\core\\dense.py:87: UserWarning: Do not pass an `input_shape`/`input_dim` argument to a layer. When using Sequential models, prefer using an `Input(shape)` object as the first layer in the model instead.\n",
      "  super().__init__(activity_regularizer=activity_regularizer, **kwargs)\n",
      "2025/05/24 18:37:38 WARNING mlflow.keras.save: You are saving a Keras model without specifying model signature.\n",
      "2025/05/24 18:37:45 WARNING mlflow.models.model: Model logged without a signature and input example. Please set `input_example` parameter when logging the model to auto infer the model signature.\n"
     ]
    },
    {
     "name": "stdout",
     "output_type": "stream",
     "text": [
      "🏃 View run exp_7 at: http://localhost:5000/#/experiments/690124376614287936/runs/1a811ca04288456b8e52a25f013aa8eb\n",
      "🧪 View experiment at: http://localhost:5000/#/experiments/690124376614287936\n",
      "Experimento 8/81: batch_size=30, epochs=5, learning_rate=0.05, hidden_units=400\n"
     ]
    },
    {
     "name": "stderr",
     "output_type": "stream",
     "text": [
      "c:\\Users\\sofia\\AppData\\Local\\Programs\\Python\\Python311\\Lib\\site-packages\\keras\\src\\layers\\core\\dense.py:87: UserWarning: Do not pass an `input_shape`/`input_dim` argument to a layer. When using Sequential models, prefer using an `Input(shape)` object as the first layer in the model instead.\n",
      "  super().__init__(activity_regularizer=activity_regularizer, **kwargs)\n",
      "2025/05/24 18:38:59 WARNING mlflow.keras.save: You are saving a Keras model without specifying model signature.\n",
      "2025/05/24 18:39:06 WARNING mlflow.models.model: Model logged without a signature and input example. Please set `input_example` parameter when logging the model to auto infer the model signature.\n"
     ]
    },
    {
     "name": "stdout",
     "output_type": "stream",
     "text": [
      "🏃 View run exp_8 at: http://localhost:5000/#/experiments/690124376614287936/runs/978de5d84388458fa4b6ab2b919fe5f1\n",
      "🧪 View experiment at: http://localhost:5000/#/experiments/690124376614287936\n",
      "Experimento 9/81: batch_size=30, epochs=5, learning_rate=0.05, hidden_units=500\n"
     ]
    },
    {
     "name": "stderr",
     "output_type": "stream",
     "text": [
      "c:\\Users\\sofia\\AppData\\Local\\Programs\\Python\\Python311\\Lib\\site-packages\\keras\\src\\layers\\core\\dense.py:87: UserWarning: Do not pass an `input_shape`/`input_dim` argument to a layer. When using Sequential models, prefer using an `Input(shape)` object as the first layer in the model instead.\n",
      "  super().__init__(activity_regularizer=activity_regularizer, **kwargs)\n",
      "2025/05/24 18:40:22 WARNING mlflow.keras.save: You are saving a Keras model without specifying model signature.\n",
      "2025/05/24 18:40:29 WARNING mlflow.models.model: Model logged without a signature and input example. Please set `input_example` parameter when logging the model to auto infer the model signature.\n"
     ]
    },
    {
     "name": "stdout",
     "output_type": "stream",
     "text": [
      "🏃 View run exp_9 at: http://localhost:5000/#/experiments/690124376614287936/runs/70c6a6af4d964750abc4fa352bc132ee\n",
      "🧪 View experiment at: http://localhost:5000/#/experiments/690124376614287936\n",
      "Experimento 10/81: batch_size=30, epochs=10, learning_rate=0.001, hidden_units=300\n"
     ]
    },
    {
     "name": "stderr",
     "output_type": "stream",
     "text": [
      "c:\\Users\\sofia\\AppData\\Local\\Programs\\Python\\Python311\\Lib\\site-packages\\keras\\src\\layers\\core\\dense.py:87: UserWarning: Do not pass an `input_shape`/`input_dim` argument to a layer. When using Sequential models, prefer using an `Input(shape)` object as the first layer in the model instead.\n",
      "  super().__init__(activity_regularizer=activity_regularizer, **kwargs)\n",
      "2025/05/24 18:42:59 WARNING mlflow.keras.save: You are saving a Keras model without specifying model signature.\n",
      "2025/05/24 18:43:11 WARNING mlflow.models.model: Model logged without a signature and input example. Please set `input_example` parameter when logging the model to auto infer the model signature.\n"
     ]
    },
    {
     "name": "stdout",
     "output_type": "stream",
     "text": [
      "🏃 View run exp_10 at: http://localhost:5000/#/experiments/690124376614287936/runs/fb808ba2860a4dcaaaaa35217884079a\n",
      "🧪 View experiment at: http://localhost:5000/#/experiments/690124376614287936\n",
      "Experimento 11/81: batch_size=30, epochs=10, learning_rate=0.001, hidden_units=400\n"
     ]
    },
    {
     "name": "stderr",
     "output_type": "stream",
     "text": [
      "c:\\Users\\sofia\\AppData\\Local\\Programs\\Python\\Python311\\Lib\\site-packages\\keras\\src\\layers\\core\\dense.py:87: UserWarning: Do not pass an `input_shape`/`input_dim` argument to a layer. When using Sequential models, prefer using an `Input(shape)` object as the first layer in the model instead.\n",
      "  super().__init__(activity_regularizer=activity_regularizer, **kwargs)\n",
      "2025/05/24 18:45:39 WARNING mlflow.keras.save: You are saving a Keras model without specifying model signature.\n",
      "2025/05/24 18:45:47 WARNING mlflow.models.model: Model logged without a signature and input example. Please set `input_example` parameter when logging the model to auto infer the model signature.\n"
     ]
    },
    {
     "name": "stdout",
     "output_type": "stream",
     "text": [
      "   Nuevo mejor modelo. Accuracy: 0.9983\n",
      "🏃 View run exp_11 at: http://localhost:5000/#/experiments/690124376614287936/runs/0e0f56a8662f42929c66df41eaf4e7a1\n",
      "🧪 View experiment at: http://localhost:5000/#/experiments/690124376614287936\n",
      "Experimento 12/81: batch_size=30, epochs=10, learning_rate=0.001, hidden_units=500\n"
     ]
    },
    {
     "name": "stderr",
     "output_type": "stream",
     "text": [
      "c:\\Users\\sofia\\AppData\\Local\\Programs\\Python\\Python311\\Lib\\site-packages\\keras\\src\\layers\\core\\dense.py:87: UserWarning: Do not pass an `input_shape`/`input_dim` argument to a layer. When using Sequential models, prefer using an `Input(shape)` object as the first layer in the model instead.\n",
      "  super().__init__(activity_regularizer=activity_regularizer, **kwargs)\n",
      "2025/05/24 18:48:22 WARNING mlflow.keras.save: You are saving a Keras model without specifying model signature.\n",
      "2025/05/24 18:48:30 WARNING mlflow.models.model: Model logged without a signature and input example. Please set `input_example` parameter when logging the model to auto infer the model signature.\n"
     ]
    },
    {
     "name": "stdout",
     "output_type": "stream",
     "text": [
      "🏃 View run exp_12 at: http://localhost:5000/#/experiments/690124376614287936/runs/acad5b6f939e4c1ab4243bb66d32f060\n",
      "🧪 View experiment at: http://localhost:5000/#/experiments/690124376614287936\n",
      "Experimento 13/81: batch_size=30, epochs=10, learning_rate=0.01, hidden_units=300\n"
     ]
    },
    {
     "name": "stderr",
     "output_type": "stream",
     "text": [
      "c:\\Users\\sofia\\AppData\\Local\\Programs\\Python\\Python311\\Lib\\site-packages\\keras\\src\\layers\\core\\dense.py:87: UserWarning: Do not pass an `input_shape`/`input_dim` argument to a layer. When using Sequential models, prefer using an `Input(shape)` object as the first layer in the model instead.\n",
      "  super().__init__(activity_regularizer=activity_regularizer, **kwargs)\n",
      "2025/05/24 18:50:54 WARNING mlflow.keras.save: You are saving a Keras model without specifying model signature.\n",
      "2025/05/24 18:51:03 WARNING mlflow.models.model: Model logged without a signature and input example. Please set `input_example` parameter when logging the model to auto infer the model signature.\n"
     ]
    },
    {
     "name": "stdout",
     "output_type": "stream",
     "text": [
      "🏃 View run exp_13 at: http://localhost:5000/#/experiments/690124376614287936/runs/e1bd9f4759a64278bbf83ecad213d551\n",
      "🧪 View experiment at: http://localhost:5000/#/experiments/690124376614287936\n",
      "Experimento 14/81: batch_size=30, epochs=10, learning_rate=0.01, hidden_units=400\n"
     ]
    },
    {
     "name": "stderr",
     "output_type": "stream",
     "text": [
      "c:\\Users\\sofia\\AppData\\Local\\Programs\\Python\\Python311\\Lib\\site-packages\\keras\\src\\layers\\core\\dense.py:87: UserWarning: Do not pass an `input_shape`/`input_dim` argument to a layer. When using Sequential models, prefer using an `Input(shape)` object as the first layer in the model instead.\n",
      "  super().__init__(activity_regularizer=activity_regularizer, **kwargs)\n",
      "2025/05/24 18:53:44 WARNING mlflow.keras.save: You are saving a Keras model without specifying model signature.\n",
      "2025/05/24 18:53:54 WARNING mlflow.models.model: Model logged without a signature and input example. Please set `input_example` parameter when logging the model to auto infer the model signature.\n"
     ]
    },
    {
     "name": "stdout",
     "output_type": "stream",
     "text": [
      "🏃 View run exp_14 at: http://localhost:5000/#/experiments/690124376614287936/runs/7486246a85094b929e73bae65513fb9d\n",
      "🧪 View experiment at: http://localhost:5000/#/experiments/690124376614287936\n",
      "Experimento 15/81: batch_size=30, epochs=10, learning_rate=0.01, hidden_units=500\n"
     ]
    },
    {
     "name": "stderr",
     "output_type": "stream",
     "text": [
      "c:\\Users\\sofia\\AppData\\Local\\Programs\\Python\\Python311\\Lib\\site-packages\\keras\\src\\layers\\core\\dense.py:87: UserWarning: Do not pass an `input_shape`/`input_dim` argument to a layer. When using Sequential models, prefer using an `Input(shape)` object as the first layer in the model instead.\n",
      "  super().__init__(activity_regularizer=activity_regularizer, **kwargs)\n",
      "2025/05/24 18:56:32 WARNING mlflow.keras.save: You are saving a Keras model without specifying model signature.\n",
      "2025/05/24 18:56:43 WARNING mlflow.models.model: Model logged without a signature and input example. Please set `input_example` parameter when logging the model to auto infer the model signature.\n"
     ]
    },
    {
     "name": "stdout",
     "output_type": "stream",
     "text": [
      "🏃 View run exp_15 at: http://localhost:5000/#/experiments/690124376614287936/runs/26503af57363490c813f969585731411\n",
      "🧪 View experiment at: http://localhost:5000/#/experiments/690124376614287936\n",
      "Experimento 16/81: batch_size=30, epochs=10, learning_rate=0.05, hidden_units=300\n"
     ]
    },
    {
     "name": "stderr",
     "output_type": "stream",
     "text": [
      "c:\\Users\\sofia\\AppData\\Local\\Programs\\Python\\Python311\\Lib\\site-packages\\keras\\src\\layers\\core\\dense.py:87: UserWarning: Do not pass an `input_shape`/`input_dim` argument to a layer. When using Sequential models, prefer using an `Input(shape)` object as the first layer in the model instead.\n",
      "  super().__init__(activity_regularizer=activity_regularizer, **kwargs)\n",
      "2025/05/24 18:59:08 WARNING mlflow.keras.save: You are saving a Keras model without specifying model signature.\n",
      "2025/05/24 18:59:19 WARNING mlflow.models.model: Model logged without a signature and input example. Please set `input_example` parameter when logging the model to auto infer the model signature.\n"
     ]
    },
    {
     "name": "stdout",
     "output_type": "stream",
     "text": [
      "🏃 View run exp_16 at: http://localhost:5000/#/experiments/690124376614287936/runs/af4d0b1db3ef435ebadcd08fbc9f4837\n",
      "🧪 View experiment at: http://localhost:5000/#/experiments/690124376614287936\n",
      "Experimento 17/81: batch_size=30, epochs=10, learning_rate=0.05, hidden_units=400\n"
     ]
    },
    {
     "name": "stderr",
     "output_type": "stream",
     "text": [
      "c:\\Users\\sofia\\AppData\\Local\\Programs\\Python\\Python311\\Lib\\site-packages\\keras\\src\\layers\\core\\dense.py:87: UserWarning: Do not pass an `input_shape`/`input_dim` argument to a layer. When using Sequential models, prefer using an `Input(shape)` object as the first layer in the model instead.\n",
      "  super().__init__(activity_regularizer=activity_regularizer, **kwargs)\n",
      "2025/05/24 19:01:43 WARNING mlflow.keras.save: You are saving a Keras model without specifying model signature.\n",
      "2025/05/24 19:01:54 WARNING mlflow.models.model: Model logged without a signature and input example. Please set `input_example` parameter when logging the model to auto infer the model signature.\n"
     ]
    },
    {
     "name": "stdout",
     "output_type": "stream",
     "text": [
      "🏃 View run exp_17 at: http://localhost:5000/#/experiments/690124376614287936/runs/d5878a3a84ee487994f48afb5bfdfb33\n",
      "🧪 View experiment at: http://localhost:5000/#/experiments/690124376614287936\n",
      "Experimento 18/81: batch_size=30, epochs=10, learning_rate=0.05, hidden_units=500\n"
     ]
    },
    {
     "name": "stderr",
     "output_type": "stream",
     "text": [
      "c:\\Users\\sofia\\AppData\\Local\\Programs\\Python\\Python311\\Lib\\site-packages\\keras\\src\\layers\\core\\dense.py:87: UserWarning: Do not pass an `input_shape`/`input_dim` argument to a layer. When using Sequential models, prefer using an `Input(shape)` object as the first layer in the model instead.\n",
      "  super().__init__(activity_regularizer=activity_regularizer, **kwargs)\n",
      "2025/05/24 19:04:23 WARNING mlflow.keras.save: You are saving a Keras model without specifying model signature.\n",
      "2025/05/24 19:04:34 WARNING mlflow.models.model: Model logged without a signature and input example. Please set `input_example` parameter when logging the model to auto infer the model signature.\n"
     ]
    },
    {
     "name": "stdout",
     "output_type": "stream",
     "text": [
      "🏃 View run exp_18 at: http://localhost:5000/#/experiments/690124376614287936/runs/ad95c97ef6814e6aaa0d265907256e68\n",
      "🧪 View experiment at: http://localhost:5000/#/experiments/690124376614287936\n",
      "Experimento 19/81: batch_size=30, epochs=15, learning_rate=0.001, hidden_units=300\n"
     ]
    },
    {
     "name": "stderr",
     "output_type": "stream",
     "text": [
      "c:\\Users\\sofia\\AppData\\Local\\Programs\\Python\\Python311\\Lib\\site-packages\\keras\\src\\layers\\core\\dense.py:87: UserWarning: Do not pass an `input_shape`/`input_dim` argument to a layer. When using Sequential models, prefer using an `Input(shape)` object as the first layer in the model instead.\n",
      "  super().__init__(activity_regularizer=activity_regularizer, **kwargs)\n",
      "2025/05/24 19:08:01 WARNING mlflow.keras.save: You are saving a Keras model without specifying model signature.\n",
      "2025/05/24 19:08:09 WARNING mlflow.models.model: Model logged without a signature and input example. Please set `input_example` parameter when logging the model to auto infer the model signature.\n"
     ]
    },
    {
     "name": "stdout",
     "output_type": "stream",
     "text": [
      "🏃 View run exp_19 at: http://localhost:5000/#/experiments/690124376614287936/runs/cd88b48c70364ac793c95e189f31228e\n",
      "🧪 View experiment at: http://localhost:5000/#/experiments/690124376614287936\n",
      "Experimento 20/81: batch_size=30, epochs=15, learning_rate=0.001, hidden_units=400\n"
     ]
    },
    {
     "name": "stderr",
     "output_type": "stream",
     "text": [
      "c:\\Users\\sofia\\AppData\\Local\\Programs\\Python\\Python311\\Lib\\site-packages\\keras\\src\\layers\\core\\dense.py:87: UserWarning: Do not pass an `input_shape`/`input_dim` argument to a layer. When using Sequential models, prefer using an `Input(shape)` object as the first layer in the model instead.\n",
      "  super().__init__(activity_regularizer=activity_regularizer, **kwargs)\n",
      "2025/05/24 19:11:35 WARNING mlflow.keras.save: You are saving a Keras model without specifying model signature.\n",
      "2025/05/24 19:11:43 WARNING mlflow.models.model: Model logged without a signature and input example. Please set `input_example` parameter when logging the model to auto infer the model signature.\n",
      "c:\\Users\\sofia\\AppData\\Local\\Programs\\Python\\Python311\\Lib\\site-packages\\keras\\src\\layers\\core\\dense.py:87: UserWarning: Do not pass an `input_shape`/`input_dim` argument to a layer. When using Sequential models, prefer using an `Input(shape)` object as the first layer in the model instead.\n",
      "  super().__init__(activity_regularizer=activity_regularizer, **kwargs)\n"
     ]
    },
    {
     "name": "stdout",
     "output_type": "stream",
     "text": [
      "🏃 View run exp_20 at: http://localhost:5000/#/experiments/690124376614287936/runs/ac3e3da43bfc4f28bb7f5e76929b127b\n",
      "🧪 View experiment at: http://localhost:5000/#/experiments/690124376614287936\n",
      "Experimento 21/81: batch_size=30, epochs=15, learning_rate=0.001, hidden_units=500\n"
     ]
    },
    {
     "name": "stderr",
     "output_type": "stream",
     "text": [
      "2025/05/24 19:15:24 WARNING mlflow.keras.save: You are saving a Keras model without specifying model signature.\n",
      "2025/05/24 19:15:31 WARNING mlflow.models.model: Model logged without a signature and input example. Please set `input_example` parameter when logging the model to auto infer the model signature.\n"
     ]
    },
    {
     "name": "stdout",
     "output_type": "stream",
     "text": [
      "🏃 View run exp_21 at: http://localhost:5000/#/experiments/690124376614287936/runs/f373bdf00459411c8ebb0c7db65e7c3c\n",
      "🧪 View experiment at: http://localhost:5000/#/experiments/690124376614287936\n",
      "Experimento 22/81: batch_size=30, epochs=15, learning_rate=0.01, hidden_units=300\n"
     ]
    },
    {
     "name": "stderr",
     "output_type": "stream",
     "text": [
      "c:\\Users\\sofia\\AppData\\Local\\Programs\\Python\\Python311\\Lib\\site-packages\\keras\\src\\layers\\core\\dense.py:87: UserWarning: Do not pass an `input_shape`/`input_dim` argument to a layer. When using Sequential models, prefer using an `Input(shape)` object as the first layer in the model instead.\n",
      "  super().__init__(activity_regularizer=activity_regularizer, **kwargs)\n",
      "2025/05/24 19:18:53 WARNING mlflow.keras.save: You are saving a Keras model without specifying model signature.\n",
      "2025/05/24 19:19:01 WARNING mlflow.models.model: Model logged without a signature and input example. Please set `input_example` parameter when logging the model to auto infer the model signature.\n"
     ]
    },
    {
     "name": "stdout",
     "output_type": "stream",
     "text": [
      "🏃 View run exp_22 at: http://localhost:5000/#/experiments/690124376614287936/runs/ff88c7507db546e2af748179faca8a42\n",
      "🧪 View experiment at: http://localhost:5000/#/experiments/690124376614287936\n",
      "Experimento 23/81: batch_size=30, epochs=15, learning_rate=0.01, hidden_units=400\n"
     ]
    },
    {
     "name": "stderr",
     "output_type": "stream",
     "text": [
      "c:\\Users\\sofia\\AppData\\Local\\Programs\\Python\\Python311\\Lib\\site-packages\\keras\\src\\layers\\core\\dense.py:87: UserWarning: Do not pass an `input_shape`/`input_dim` argument to a layer. When using Sequential models, prefer using an `Input(shape)` object as the first layer in the model instead.\n",
      "  super().__init__(activity_regularizer=activity_regularizer, **kwargs)\n",
      "2025/05/24 19:22:30 WARNING mlflow.keras.save: You are saving a Keras model without specifying model signature.\n",
      "2025/05/24 19:22:37 WARNING mlflow.models.model: Model logged without a signature and input example. Please set `input_example` parameter when logging the model to auto infer the model signature.\n"
     ]
    },
    {
     "name": "stdout",
     "output_type": "stream",
     "text": [
      "🏃 View run exp_23 at: http://localhost:5000/#/experiments/690124376614287936/runs/629c8e0a132d474085944b0df9682e79\n",
      "🧪 View experiment at: http://localhost:5000/#/experiments/690124376614287936\n",
      "Experimento 24/81: batch_size=30, epochs=15, learning_rate=0.01, hidden_units=500\n"
     ]
    },
    {
     "name": "stderr",
     "output_type": "stream",
     "text": [
      "c:\\Users\\sofia\\AppData\\Local\\Programs\\Python\\Python311\\Lib\\site-packages\\keras\\src\\layers\\core\\dense.py:87: UserWarning: Do not pass an `input_shape`/`input_dim` argument to a layer. When using Sequential models, prefer using an `Input(shape)` object as the first layer in the model instead.\n",
      "  super().__init__(activity_regularizer=activity_regularizer, **kwargs)\n",
      "2025/05/24 19:26:09 WARNING mlflow.keras.save: You are saving a Keras model without specifying model signature.\n",
      "2025/05/24 19:26:16 WARNING mlflow.models.model: Model logged without a signature and input example. Please set `input_example` parameter when logging the model to auto infer the model signature.\n"
     ]
    },
    {
     "name": "stdout",
     "output_type": "stream",
     "text": [
      "🏃 View run exp_24 at: http://localhost:5000/#/experiments/690124376614287936/runs/9bd3c10b85094f738d6587d176f07a7e\n",
      "🧪 View experiment at: http://localhost:5000/#/experiments/690124376614287936\n",
      "Experimento 25/81: batch_size=30, epochs=15, learning_rate=0.05, hidden_units=300\n"
     ]
    },
    {
     "name": "stderr",
     "output_type": "stream",
     "text": [
      "c:\\Users\\sofia\\AppData\\Local\\Programs\\Python\\Python311\\Lib\\site-packages\\keras\\src\\layers\\core\\dense.py:87: UserWarning: Do not pass an `input_shape`/`input_dim` argument to a layer. When using Sequential models, prefer using an `Input(shape)` object as the first layer in the model instead.\n",
      "  super().__init__(activity_regularizer=activity_regularizer, **kwargs)\n",
      "2025/05/24 19:33:47 WARNING mlflow.keras.save: You are saving a Keras model without specifying model signature.\n",
      "2025/05/24 19:34:06 WARNING mlflow.models.model: Model logged without a signature and input example. Please set `input_example` parameter when logging the model to auto infer the model signature.\n"
     ]
    },
    {
     "name": "stdout",
     "output_type": "stream",
     "text": [
      "🏃 View run exp_25 at: http://localhost:5000/#/experiments/690124376614287936/runs/d2c50f1943364e5fa5c36dccebc3079a\n",
      "🧪 View experiment at: http://localhost:5000/#/experiments/690124376614287936\n",
      "Experimento 26/81: batch_size=30, epochs=15, learning_rate=0.05, hidden_units=400\n"
     ]
    },
    {
     "name": "stderr",
     "output_type": "stream",
     "text": [
      "c:\\Users\\sofia\\AppData\\Local\\Programs\\Python\\Python311\\Lib\\site-packages\\keras\\src\\layers\\core\\dense.py:87: UserWarning: Do not pass an `input_shape`/`input_dim` argument to a layer. When using Sequential models, prefer using an `Input(shape)` object as the first layer in the model instead.\n",
      "  super().__init__(activity_regularizer=activity_regularizer, **kwargs)\n",
      "2025/05/24 19:42:27 WARNING mlflow.keras.save: You are saving a Keras model without specifying model signature.\n",
      "2025/05/24 19:42:43 WARNING mlflow.models.model: Model logged without a signature and input example. Please set `input_example` parameter when logging the model to auto infer the model signature.\n"
     ]
    },
    {
     "name": "stdout",
     "output_type": "stream",
     "text": [
      "🏃 View run exp_26 at: http://localhost:5000/#/experiments/690124376614287936/runs/84af4ad5267e4e9789181547125c1971\n",
      "🧪 View experiment at: http://localhost:5000/#/experiments/690124376614287936\n",
      "Experimento 27/81: batch_size=30, epochs=15, learning_rate=0.05, hidden_units=500\n"
     ]
    },
    {
     "name": "stderr",
     "output_type": "stream",
     "text": [
      "c:\\Users\\sofia\\AppData\\Local\\Programs\\Python\\Python311\\Lib\\site-packages\\keras\\src\\layers\\core\\dense.py:87: UserWarning: Do not pass an `input_shape`/`input_dim` argument to a layer. When using Sequential models, prefer using an `Input(shape)` object as the first layer in the model instead.\n",
      "  super().__init__(activity_regularizer=activity_regularizer, **kwargs)\n",
      "2025/05/24 19:51:55 WARNING mlflow.keras.save: You are saving a Keras model without specifying model signature.\n",
      "2025/05/24 19:52:19 WARNING mlflow.models.model: Model logged without a signature and input example. Please set `input_example` parameter when logging the model to auto infer the model signature.\n"
     ]
    },
    {
     "name": "stdout",
     "output_type": "stream",
     "text": [
      "🏃 View run exp_27 at: http://localhost:5000/#/experiments/690124376614287936/runs/321736ded4384781977b61a11fb5052d\n",
      "🧪 View experiment at: http://localhost:5000/#/experiments/690124376614287936\n",
      "Experimento 28/81: batch_size=120, epochs=5, learning_rate=0.001, hidden_units=300\n"
     ]
    },
    {
     "name": "stderr",
     "output_type": "stream",
     "text": [
      "c:\\Users\\sofia\\AppData\\Local\\Programs\\Python\\Python311\\Lib\\site-packages\\keras\\src\\layers\\core\\dense.py:87: UserWarning: Do not pass an `input_shape`/`input_dim` argument to a layer. When using Sequential models, prefer using an `Input(shape)` object as the first layer in the model instead.\n",
      "  super().__init__(activity_regularizer=activity_regularizer, **kwargs)\n",
      "2025/05/24 19:53:18 WARNING mlflow.keras.save: You are saving a Keras model without specifying model signature.\n",
      "2025/05/24 19:53:41 WARNING mlflow.models.model: Model logged without a signature and input example. Please set `input_example` parameter when logging the model to auto infer the model signature.\n"
     ]
    },
    {
     "name": "stdout",
     "output_type": "stream",
     "text": [
      "🏃 View run exp_28 at: http://localhost:5000/#/experiments/690124376614287936/runs/7353b520cbae4f209cf6b765949ab78c\n",
      "🧪 View experiment at: http://localhost:5000/#/experiments/690124376614287936\n",
      "Experimento 29/81: batch_size=120, epochs=5, learning_rate=0.001, hidden_units=400\n"
     ]
    },
    {
     "name": "stderr",
     "output_type": "stream",
     "text": [
      "c:\\Users\\sofia\\AppData\\Local\\Programs\\Python\\Python311\\Lib\\site-packages\\keras\\src\\layers\\core\\dense.py:87: UserWarning: Do not pass an `input_shape`/`input_dim` argument to a layer. When using Sequential models, prefer using an `Input(shape)` object as the first layer in the model instead.\n",
      "  super().__init__(activity_regularizer=activity_regularizer, **kwargs)\n",
      "2025/05/24 19:54:51 WARNING mlflow.keras.save: You are saving a Keras model without specifying model signature.\n",
      "2025/05/24 19:55:07 WARNING mlflow.models.model: Model logged without a signature and input example. Please set `input_example` parameter when logging the model to auto infer the model signature.\n"
     ]
    },
    {
     "name": "stdout",
     "output_type": "stream",
     "text": [
      "🏃 View run exp_29 at: http://localhost:5000/#/experiments/690124376614287936/runs/3120a04ab7ca4063ba37514f55a6ecb5\n",
      "🧪 View experiment at: http://localhost:5000/#/experiments/690124376614287936\n",
      "Experimento 30/81: batch_size=120, epochs=5, learning_rate=0.001, hidden_units=500\n"
     ]
    },
    {
     "name": "stderr",
     "output_type": "stream",
     "text": [
      "c:\\Users\\sofia\\AppData\\Local\\Programs\\Python\\Python311\\Lib\\site-packages\\keras\\src\\layers\\core\\dense.py:87: UserWarning: Do not pass an `input_shape`/`input_dim` argument to a layer. When using Sequential models, prefer using an `Input(shape)` object as the first layer in the model instead.\n",
      "  super().__init__(activity_regularizer=activity_regularizer, **kwargs)\n",
      "2025/05/24 19:56:11 WARNING mlflow.keras.save: You are saving a Keras model without specifying model signature.\n",
      "2025/05/24 19:56:34 WARNING mlflow.models.model: Model logged without a signature and input example. Please set `input_example` parameter when logging the model to auto infer the model signature.\n"
     ]
    },
    {
     "name": "stdout",
     "output_type": "stream",
     "text": [
      "🏃 View run exp_30 at: http://localhost:5000/#/experiments/690124376614287936/runs/ed6be6a9dd9a4297a3df3aa22b1042ca\n",
      "🧪 View experiment at: http://localhost:5000/#/experiments/690124376614287936\n",
      "Experimento 31/81: batch_size=120, epochs=5, learning_rate=0.01, hidden_units=300\n"
     ]
    },
    {
     "name": "stderr",
     "output_type": "stream",
     "text": [
      "c:\\Users\\sofia\\AppData\\Local\\Programs\\Python\\Python311\\Lib\\site-packages\\keras\\src\\layers\\core\\dense.py:87: UserWarning: Do not pass an `input_shape`/`input_dim` argument to a layer. When using Sequential models, prefer using an `Input(shape)` object as the first layer in the model instead.\n",
      "  super().__init__(activity_regularizer=activity_regularizer, **kwargs)\n",
      "2025/05/24 19:57:37 WARNING mlflow.keras.save: You are saving a Keras model without specifying model signature.\n",
      "2025/05/24 19:58:01 WARNING mlflow.models.model: Model logged without a signature and input example. Please set `input_example` parameter when logging the model to auto infer the model signature.\n"
     ]
    },
    {
     "name": "stdout",
     "output_type": "stream",
     "text": [
      "🏃 View run exp_31 at: http://localhost:5000/#/experiments/690124376614287936/runs/00a8bf6f8dd2483ea68b541765a009a3\n",
      "🧪 View experiment at: http://localhost:5000/#/experiments/690124376614287936\n",
      "Experimento 32/81: batch_size=120, epochs=5, learning_rate=0.01, hidden_units=400\n"
     ]
    },
    {
     "name": "stderr",
     "output_type": "stream",
     "text": [
      "c:\\Users\\sofia\\AppData\\Local\\Programs\\Python\\Python311\\Lib\\site-packages\\keras\\src\\layers\\core\\dense.py:87: UserWarning: Do not pass an `input_shape`/`input_dim` argument to a layer. When using Sequential models, prefer using an `Input(shape)` object as the first layer in the model instead.\n",
      "  super().__init__(activity_regularizer=activity_regularizer, **kwargs)\n",
      "2025/05/24 19:58:59 WARNING mlflow.keras.save: You are saving a Keras model without specifying model signature.\n",
      "2025/05/24 19:59:15 WARNING mlflow.models.model: Model logged without a signature and input example. Please set `input_example` parameter when logging the model to auto infer the model signature.\n"
     ]
    },
    {
     "name": "stdout",
     "output_type": "stream",
     "text": [
      "🏃 View run exp_32 at: http://localhost:5000/#/experiments/690124376614287936/runs/9099fbb0aed04884af005a032706001a\n",
      "🧪 View experiment at: http://localhost:5000/#/experiments/690124376614287936\n",
      "Experimento 33/81: batch_size=120, epochs=5, learning_rate=0.01, hidden_units=500\n"
     ]
    },
    {
     "name": "stderr",
     "output_type": "stream",
     "text": [
      "c:\\Users\\sofia\\AppData\\Local\\Programs\\Python\\Python311\\Lib\\site-packages\\keras\\src\\layers\\core\\dense.py:87: UserWarning: Do not pass an `input_shape`/`input_dim` argument to a layer. When using Sequential models, prefer using an `Input(shape)` object as the first layer in the model instead.\n",
      "  super().__init__(activity_regularizer=activity_regularizer, **kwargs)\n",
      "2025/05/24 20:00:17 WARNING mlflow.keras.save: You are saving a Keras model without specifying model signature.\n",
      "2025/05/24 20:00:33 WARNING mlflow.models.model: Model logged without a signature and input example. Please set `input_example` parameter when logging the model to auto infer the model signature.\n"
     ]
    },
    {
     "name": "stdout",
     "output_type": "stream",
     "text": [
      "🏃 View run exp_33 at: http://localhost:5000/#/experiments/690124376614287936/runs/a54728541b0143f68717d61fbc0b76e1\n",
      "🧪 View experiment at: http://localhost:5000/#/experiments/690124376614287936\n",
      "Experimento 34/81: batch_size=120, epochs=5, learning_rate=0.05, hidden_units=300\n"
     ]
    },
    {
     "name": "stderr",
     "output_type": "stream",
     "text": [
      "c:\\Users\\sofia\\AppData\\Local\\Programs\\Python\\Python311\\Lib\\site-packages\\keras\\src\\layers\\core\\dense.py:87: UserWarning: Do not pass an `input_shape`/`input_dim` argument to a layer. When using Sequential models, prefer using an `Input(shape)` object as the first layer in the model instead.\n",
      "  super().__init__(activity_regularizer=activity_regularizer, **kwargs)\n",
      "2025/05/24 20:01:28 WARNING mlflow.keras.save: You are saving a Keras model without specifying model signature.\n",
      "2025/05/24 20:01:45 WARNING mlflow.models.model: Model logged without a signature and input example. Please set `input_example` parameter when logging the model to auto infer the model signature.\n"
     ]
    },
    {
     "name": "stdout",
     "output_type": "stream",
     "text": [
      "🏃 View run exp_34 at: http://localhost:5000/#/experiments/690124376614287936/runs/0e1d0659642c46bf832b15b28172ca0a\n",
      "🧪 View experiment at: http://localhost:5000/#/experiments/690124376614287936\n",
      "Experimento 35/81: batch_size=120, epochs=5, learning_rate=0.05, hidden_units=400\n"
     ]
    },
    {
     "name": "stderr",
     "output_type": "stream",
     "text": [
      "c:\\Users\\sofia\\AppData\\Local\\Programs\\Python\\Python311\\Lib\\site-packages\\keras\\src\\layers\\core\\dense.py:87: UserWarning: Do not pass an `input_shape`/`input_dim` argument to a layer. When using Sequential models, prefer using an `Input(shape)` object as the first layer in the model instead.\n",
      "  super().__init__(activity_regularizer=activity_regularizer, **kwargs)\n",
      "2025/05/24 20:02:42 WARNING mlflow.keras.save: You are saving a Keras model without specifying model signature.\n",
      "2025/05/24 20:02:59 WARNING mlflow.models.model: Model logged without a signature and input example. Please set `input_example` parameter when logging the model to auto infer the model signature.\n"
     ]
    },
    {
     "name": "stdout",
     "output_type": "stream",
     "text": [
      "🏃 View run exp_35 at: http://localhost:5000/#/experiments/690124376614287936/runs/f3fde9f36b784729ad89601e2636ba67\n",
      "🧪 View experiment at: http://localhost:5000/#/experiments/690124376614287936\n",
      "Experimento 36/81: batch_size=120, epochs=5, learning_rate=0.05, hidden_units=500\n"
     ]
    },
    {
     "name": "stderr",
     "output_type": "stream",
     "text": [
      "c:\\Users\\sofia\\AppData\\Local\\Programs\\Python\\Python311\\Lib\\site-packages\\keras\\src\\layers\\core\\dense.py:87: UserWarning: Do not pass an `input_shape`/`input_dim` argument to a layer. When using Sequential models, prefer using an `Input(shape)` object as the first layer in the model instead.\n",
      "  super().__init__(activity_regularizer=activity_regularizer, **kwargs)\n",
      "2025/05/24 20:03:59 WARNING mlflow.keras.save: You are saving a Keras model without specifying model signature.\n",
      "2025/05/24 20:04:15 WARNING mlflow.models.model: Model logged without a signature and input example. Please set `input_example` parameter when logging the model to auto infer the model signature.\n"
     ]
    },
    {
     "name": "stdout",
     "output_type": "stream",
     "text": [
      "🏃 View run exp_36 at: http://localhost:5000/#/experiments/690124376614287936/runs/91c1caccb90b46d893a7bb4345c80e05\n",
      "🧪 View experiment at: http://localhost:5000/#/experiments/690124376614287936\n",
      "Experimento 37/81: batch_size=120, epochs=10, learning_rate=0.001, hidden_units=300\n"
     ]
    },
    {
     "name": "stderr",
     "output_type": "stream",
     "text": [
      "c:\\Users\\sofia\\AppData\\Local\\Programs\\Python\\Python311\\Lib\\site-packages\\keras\\src\\layers\\core\\dense.py:87: UserWarning: Do not pass an `input_shape`/`input_dim` argument to a layer. When using Sequential models, prefer using an `Input(shape)` object as the first layer in the model instead.\n",
      "  super().__init__(activity_regularizer=activity_regularizer, **kwargs)\n",
      "2025/05/24 20:05:56 WARNING mlflow.keras.save: You are saving a Keras model without specifying model signature.\n",
      "2025/05/24 20:06:12 WARNING mlflow.models.model: Model logged without a signature and input example. Please set `input_example` parameter when logging the model to auto infer the model signature.\n"
     ]
    },
    {
     "name": "stdout",
     "output_type": "stream",
     "text": [
      "🏃 View run exp_37 at: http://localhost:5000/#/experiments/690124376614287936/runs/7c324a25b2584d3dbb72c1cbe9f247b2\n",
      "🧪 View experiment at: http://localhost:5000/#/experiments/690124376614287936\n",
      "Experimento 38/81: batch_size=120, epochs=10, learning_rate=0.001, hidden_units=400\n"
     ]
    },
    {
     "name": "stderr",
     "output_type": "stream",
     "text": [
      "c:\\Users\\sofia\\AppData\\Local\\Programs\\Python\\Python311\\Lib\\site-packages\\keras\\src\\layers\\core\\dense.py:87: UserWarning: Do not pass an `input_shape`/`input_dim` argument to a layer. When using Sequential models, prefer using an `Input(shape)` object as the first layer in the model instead.\n",
      "  super().__init__(activity_regularizer=activity_regularizer, **kwargs)\n",
      "2025/05/24 20:08:01 WARNING mlflow.keras.save: You are saving a Keras model without specifying model signature.\n",
      "2025/05/24 20:08:18 WARNING mlflow.models.model: Model logged without a signature and input example. Please set `input_example` parameter when logging the model to auto infer the model signature.\n"
     ]
    },
    {
     "name": "stdout",
     "output_type": "stream",
     "text": [
      "🏃 View run exp_38 at: http://localhost:5000/#/experiments/690124376614287936/runs/78088bba63c04ba5bb9af18363f9d605\n",
      "🧪 View experiment at: http://localhost:5000/#/experiments/690124376614287936\n",
      "Experimento 39/81: batch_size=120, epochs=10, learning_rate=0.001, hidden_units=500\n"
     ]
    },
    {
     "name": "stderr",
     "output_type": "stream",
     "text": [
      "c:\\Users\\sofia\\AppData\\Local\\Programs\\Python\\Python311\\Lib\\site-packages\\keras\\src\\layers\\core\\dense.py:87: UserWarning: Do not pass an `input_shape`/`input_dim` argument to a layer. When using Sequential models, prefer using an `Input(shape)` object as the first layer in the model instead.\n",
      "  super().__init__(activity_regularizer=activity_regularizer, **kwargs)\n",
      "2025/05/24 20:10:12 WARNING mlflow.keras.save: You are saving a Keras model without specifying model signature.\n",
      "2025/05/24 20:10:31 WARNING mlflow.models.model: Model logged without a signature and input example. Please set `input_example` parameter when logging the model to auto infer the model signature.\n"
     ]
    },
    {
     "name": "stdout",
     "output_type": "stream",
     "text": [
      "🏃 View run exp_39 at: http://localhost:5000/#/experiments/690124376614287936/runs/703d35df258d4db084f0b592df63ecf6\n",
      "🧪 View experiment at: http://localhost:5000/#/experiments/690124376614287936\n",
      "Experimento 40/81: batch_size=120, epochs=10, learning_rate=0.01, hidden_units=300\n"
     ]
    },
    {
     "name": "stderr",
     "output_type": "stream",
     "text": [
      "c:\\Users\\sofia\\AppData\\Local\\Programs\\Python\\Python311\\Lib\\site-packages\\keras\\src\\layers\\core\\dense.py:87: UserWarning: Do not pass an `input_shape`/`input_dim` argument to a layer. When using Sequential models, prefer using an `Input(shape)` object as the first layer in the model instead.\n",
      "  super().__init__(activity_regularizer=activity_regularizer, **kwargs)\n",
      "2025/05/24 20:12:16 WARNING mlflow.keras.save: You are saving a Keras model without specifying model signature.\n",
      "2025/05/24 20:12:34 WARNING mlflow.models.model: Model logged without a signature and input example. Please set `input_example` parameter when logging the model to auto infer the model signature.\n"
     ]
    },
    {
     "name": "stdout",
     "output_type": "stream",
     "text": [
      "🏃 View run exp_40 at: http://localhost:5000/#/experiments/690124376614287936/runs/97826ef7631e4456af83f155df44ace3\n",
      "🧪 View experiment at: http://localhost:5000/#/experiments/690124376614287936\n",
      "Experimento 41/81: batch_size=120, epochs=10, learning_rate=0.01, hidden_units=400\n"
     ]
    },
    {
     "name": "stderr",
     "output_type": "stream",
     "text": [
      "c:\\Users\\sofia\\AppData\\Local\\Programs\\Python\\Python311\\Lib\\site-packages\\keras\\src\\layers\\core\\dense.py:87: UserWarning: Do not pass an `input_shape`/`input_dim` argument to a layer. When using Sequential models, prefer using an `Input(shape)` object as the first layer in the model instead.\n",
      "  super().__init__(activity_regularizer=activity_regularizer, **kwargs)\n",
      "2025/05/24 20:14:17 WARNING mlflow.keras.save: You are saving a Keras model without specifying model signature.\n",
      "2025/05/24 20:14:33 WARNING mlflow.models.model: Model logged without a signature and input example. Please set `input_example` parameter when logging the model to auto infer the model signature.\n"
     ]
    },
    {
     "name": "stdout",
     "output_type": "stream",
     "text": [
      "🏃 View run exp_41 at: http://localhost:5000/#/experiments/690124376614287936/runs/5a9e9494cf5d482d93a6b31bd327a481\n",
      "🧪 View experiment at: http://localhost:5000/#/experiments/690124376614287936\n",
      "Experimento 42/81: batch_size=120, epochs=10, learning_rate=0.01, hidden_units=500\n"
     ]
    },
    {
     "name": "stderr",
     "output_type": "stream",
     "text": [
      "c:\\Users\\sofia\\AppData\\Local\\Programs\\Python\\Python311\\Lib\\site-packages\\keras\\src\\layers\\core\\dense.py:87: UserWarning: Do not pass an `input_shape`/`input_dim` argument to a layer. When using Sequential models, prefer using an `Input(shape)` object as the first layer in the model instead.\n",
      "  super().__init__(activity_regularizer=activity_regularizer, **kwargs)\n",
      "2025/05/24 20:16:21 WARNING mlflow.keras.save: You are saving a Keras model without specifying model signature.\n",
      "2025/05/24 20:16:36 WARNING mlflow.models.model: Model logged without a signature and input example. Please set `input_example` parameter when logging the model to auto infer the model signature.\n"
     ]
    },
    {
     "name": "stdout",
     "output_type": "stream",
     "text": [
      "🏃 View run exp_42 at: http://localhost:5000/#/experiments/690124376614287936/runs/7de9ac4943bc4377aa0890a3c9108531\n",
      "🧪 View experiment at: http://localhost:5000/#/experiments/690124376614287936\n",
      "Experimento 43/81: batch_size=120, epochs=10, learning_rate=0.05, hidden_units=300\n"
     ]
    },
    {
     "name": "stderr",
     "output_type": "stream",
     "text": [
      "c:\\Users\\sofia\\AppData\\Local\\Programs\\Python\\Python311\\Lib\\site-packages\\keras\\src\\layers\\core\\dense.py:87: UserWarning: Do not pass an `input_shape`/`input_dim` argument to a layer. When using Sequential models, prefer using an `Input(shape)` object as the first layer in the model instead.\n",
      "  super().__init__(activity_regularizer=activity_regularizer, **kwargs)\n",
      "2025/05/24 20:18:23 WARNING mlflow.keras.save: You are saving a Keras model without specifying model signature.\n",
      "2025/05/24 20:18:43 WARNING mlflow.models.model: Model logged without a signature and input example. Please set `input_example` parameter when logging the model to auto infer the model signature.\n"
     ]
    },
    {
     "name": "stdout",
     "output_type": "stream",
     "text": [
      "   Nuevo mejor modelo. Accuracy: 0.9987\n",
      "🏃 View run exp_43 at: http://localhost:5000/#/experiments/690124376614287936/runs/9b74065986514678b23913f1dd552e02\n",
      "🧪 View experiment at: http://localhost:5000/#/experiments/690124376614287936\n",
      "Experimento 44/81: batch_size=120, epochs=10, learning_rate=0.05, hidden_units=400\n"
     ]
    },
    {
     "name": "stderr",
     "output_type": "stream",
     "text": [
      "c:\\Users\\sofia\\AppData\\Local\\Programs\\Python\\Python311\\Lib\\site-packages\\keras\\src\\layers\\core\\dense.py:87: UserWarning: Do not pass an `input_shape`/`input_dim` argument to a layer. When using Sequential models, prefer using an `Input(shape)` object as the first layer in the model instead.\n",
      "  super().__init__(activity_regularizer=activity_regularizer, **kwargs)\n",
      "2025/05/24 20:20:25 WARNING mlflow.keras.save: You are saving a Keras model without specifying model signature.\n",
      "2025/05/24 20:20:41 WARNING mlflow.models.model: Model logged without a signature and input example. Please set `input_example` parameter when logging the model to auto infer the model signature.\n"
     ]
    },
    {
     "name": "stdout",
     "output_type": "stream",
     "text": [
      "🏃 View run exp_44 at: http://localhost:5000/#/experiments/690124376614287936/runs/9039e43d25a24663af8f7ba756a55be2\n",
      "🧪 View experiment at: http://localhost:5000/#/experiments/690124376614287936\n",
      "Experimento 45/81: batch_size=120, epochs=10, learning_rate=0.05, hidden_units=500\n"
     ]
    },
    {
     "name": "stderr",
     "output_type": "stream",
     "text": [
      "c:\\Users\\sofia\\AppData\\Local\\Programs\\Python\\Python311\\Lib\\site-packages\\keras\\src\\layers\\core\\dense.py:87: UserWarning: Do not pass an `input_shape`/`input_dim` argument to a layer. When using Sequential models, prefer using an `Input(shape)` object as the first layer in the model instead.\n",
      "  super().__init__(activity_regularizer=activity_regularizer, **kwargs)\n",
      "2025/05/24 20:22:31 WARNING mlflow.keras.save: You are saving a Keras model without specifying model signature.\n",
      "2025/05/24 20:22:46 WARNING mlflow.models.model: Model logged without a signature and input example. Please set `input_example` parameter when logging the model to auto infer the model signature.\n"
     ]
    },
    {
     "name": "stdout",
     "output_type": "stream",
     "text": [
      "🏃 View run exp_45 at: http://localhost:5000/#/experiments/690124376614287936/runs/341b0385c654486c95e36ac3267a5baf\n",
      "🧪 View experiment at: http://localhost:5000/#/experiments/690124376614287936\n",
      "Experimento 46/81: batch_size=120, epochs=15, learning_rate=0.001, hidden_units=300\n"
     ]
    },
    {
     "name": "stderr",
     "output_type": "stream",
     "text": [
      "c:\\Users\\sofia\\AppData\\Local\\Programs\\Python\\Python311\\Lib\\site-packages\\keras\\src\\layers\\core\\dense.py:87: UserWarning: Do not pass an `input_shape`/`input_dim` argument to a layer. When using Sequential models, prefer using an `Input(shape)` object as the first layer in the model instead.\n",
      "  super().__init__(activity_regularizer=activity_regularizer, **kwargs)\n",
      "2025/05/24 20:25:09 WARNING mlflow.keras.save: You are saving a Keras model without specifying model signature.\n",
      "2025/05/24 20:25:25 WARNING mlflow.models.model: Model logged without a signature and input example. Please set `input_example` parameter when logging the model to auto infer the model signature.\n"
     ]
    },
    {
     "name": "stdout",
     "output_type": "stream",
     "text": [
      "🏃 View run exp_46 at: http://localhost:5000/#/experiments/690124376614287936/runs/d60a2f058b0a481b941f9fb9c2eeebf4\n",
      "🧪 View experiment at: http://localhost:5000/#/experiments/690124376614287936\n",
      "Experimento 47/81: batch_size=120, epochs=15, learning_rate=0.001, hidden_units=400\n"
     ]
    },
    {
     "name": "stderr",
     "output_type": "stream",
     "text": [
      "c:\\Users\\sofia\\AppData\\Local\\Programs\\Python\\Python311\\Lib\\site-packages\\keras\\src\\layers\\core\\dense.py:87: UserWarning: Do not pass an `input_shape`/`input_dim` argument to a layer. When using Sequential models, prefer using an `Input(shape)` object as the first layer in the model instead.\n",
      "  super().__init__(activity_regularizer=activity_regularizer, **kwargs)\n",
      "2025/05/24 20:27:55 WARNING mlflow.keras.save: You are saving a Keras model without specifying model signature.\n",
      "2025/05/24 20:28:10 WARNING mlflow.models.model: Model logged without a signature and input example. Please set `input_example` parameter when logging the model to auto infer the model signature.\n"
     ]
    },
    {
     "name": "stdout",
     "output_type": "stream",
     "text": [
      "   Nuevo mejor modelo. Accuracy: 0.9990\n",
      "🏃 View run exp_47 at: http://localhost:5000/#/experiments/690124376614287936/runs/76fdc0b1e141489aad479bd6d3f6850e\n",
      "🧪 View experiment at: http://localhost:5000/#/experiments/690124376614287936\n",
      "Experimento 48/81: batch_size=120, epochs=15, learning_rate=0.001, hidden_units=500\n"
     ]
    },
    {
     "name": "stderr",
     "output_type": "stream",
     "text": [
      "c:\\Users\\sofia\\AppData\\Local\\Programs\\Python\\Python311\\Lib\\site-packages\\keras\\src\\layers\\core\\dense.py:87: UserWarning: Do not pass an `input_shape`/`input_dim` argument to a layer. When using Sequential models, prefer using an `Input(shape)` object as the first layer in the model instead.\n",
      "  super().__init__(activity_regularizer=activity_regularizer, **kwargs)\n",
      "2025/05/24 20:30:51 WARNING mlflow.keras.save: You are saving a Keras model without specifying model signature.\n",
      "2025/05/24 20:31:08 WARNING mlflow.models.model: Model logged without a signature and input example. Please set `input_example` parameter when logging the model to auto infer the model signature.\n"
     ]
    },
    {
     "name": "stdout",
     "output_type": "stream",
     "text": [
      "🏃 View run exp_48 at: http://localhost:5000/#/experiments/690124376614287936/runs/c36b9e41d0ab4e679c911148679b0847\n",
      "🧪 View experiment at: http://localhost:5000/#/experiments/690124376614287936\n",
      "Experimento 49/81: batch_size=120, epochs=15, learning_rate=0.01, hidden_units=300\n"
     ]
    },
    {
     "name": "stderr",
     "output_type": "stream",
     "text": [
      "c:\\Users\\sofia\\AppData\\Local\\Programs\\Python\\Python311\\Lib\\site-packages\\keras\\src\\layers\\core\\dense.py:87: UserWarning: Do not pass an `input_shape`/`input_dim` argument to a layer. When using Sequential models, prefer using an `Input(shape)` object as the first layer in the model instead.\n",
      "  super().__init__(activity_regularizer=activity_regularizer, **kwargs)\n",
      "2025/05/24 20:33:49 WARNING mlflow.keras.save: You are saving a Keras model without specifying model signature.\n",
      "2025/05/24 20:34:09 WARNING mlflow.models.model: Model logged without a signature and input example. Please set `input_example` parameter when logging the model to auto infer the model signature.\n"
     ]
    },
    {
     "name": "stdout",
     "output_type": "stream",
     "text": [
      "🏃 View run exp_49 at: http://localhost:5000/#/experiments/690124376614287936/runs/8b25ba2afe5249d098cb1d06291926bc\n",
      "🧪 View experiment at: http://localhost:5000/#/experiments/690124376614287936\n",
      "Experimento 50/81: batch_size=120, epochs=15, learning_rate=0.01, hidden_units=400\n"
     ]
    },
    {
     "name": "stderr",
     "output_type": "stream",
     "text": [
      "c:\\Users\\sofia\\AppData\\Local\\Programs\\Python\\Python311\\Lib\\site-packages\\keras\\src\\layers\\core\\dense.py:87: UserWarning: Do not pass an `input_shape`/`input_dim` argument to a layer. When using Sequential models, prefer using an `Input(shape)` object as the first layer in the model instead.\n",
      "  super().__init__(activity_regularizer=activity_regularizer, **kwargs)\n",
      "2025/05/24 20:36:47 WARNING mlflow.keras.save: You are saving a Keras model without specifying model signature.\n",
      "2025/05/24 20:37:04 WARNING mlflow.models.model: Model logged without a signature and input example. Please set `input_example` parameter when logging the model to auto infer the model signature.\n"
     ]
    },
    {
     "name": "stdout",
     "output_type": "stream",
     "text": [
      "🏃 View run exp_50 at: http://localhost:5000/#/experiments/690124376614287936/runs/c021e194ca8a4de1bf0af0ae21d9b9f2\n",
      "🧪 View experiment at: http://localhost:5000/#/experiments/690124376614287936\n",
      "Experimento 51/81: batch_size=120, epochs=15, learning_rate=0.01, hidden_units=500\n"
     ]
    },
    {
     "name": "stderr",
     "output_type": "stream",
     "text": [
      "c:\\Users\\sofia\\AppData\\Local\\Programs\\Python\\Python311\\Lib\\site-packages\\keras\\src\\layers\\core\\dense.py:87: UserWarning: Do not pass an `input_shape`/`input_dim` argument to a layer. When using Sequential models, prefer using an `Input(shape)` object as the first layer in the model instead.\n",
      "  super().__init__(activity_regularizer=activity_regularizer, **kwargs)\n",
      "2025/05/24 20:39:49 WARNING mlflow.keras.save: You are saving a Keras model without specifying model signature.\n",
      "2025/05/24 20:40:04 WARNING mlflow.models.model: Model logged without a signature and input example. Please set `input_example` parameter when logging the model to auto infer the model signature.\n"
     ]
    },
    {
     "name": "stdout",
     "output_type": "stream",
     "text": [
      "🏃 View run exp_51 at: http://localhost:5000/#/experiments/690124376614287936/runs/d9651af461e149c78235c9a74db51a5b\n",
      "🧪 View experiment at: http://localhost:5000/#/experiments/690124376614287936\n",
      "Experimento 52/81: batch_size=120, epochs=15, learning_rate=0.05, hidden_units=300\n"
     ]
    },
    {
     "name": "stderr",
     "output_type": "stream",
     "text": [
      "c:\\Users\\sofia\\AppData\\Local\\Programs\\Python\\Python311\\Lib\\site-packages\\keras\\src\\layers\\core\\dense.py:87: UserWarning: Do not pass an `input_shape`/`input_dim` argument to a layer. When using Sequential models, prefer using an `Input(shape)` object as the first layer in the model instead.\n",
      "  super().__init__(activity_regularizer=activity_regularizer, **kwargs)\n",
      "2025/05/24 20:42:27 WARNING mlflow.keras.save: You are saving a Keras model without specifying model signature.\n",
      "2025/05/24 20:42:42 WARNING mlflow.models.model: Model logged without a signature and input example. Please set `input_example` parameter when logging the model to auto infer the model signature.\n"
     ]
    },
    {
     "name": "stdout",
     "output_type": "stream",
     "text": [
      "🏃 View run exp_52 at: http://localhost:5000/#/experiments/690124376614287936/runs/5a2f0af58c0a4f0e96dbd8f973625322\n",
      "🧪 View experiment at: http://localhost:5000/#/experiments/690124376614287936\n",
      "Experimento 53/81: batch_size=120, epochs=15, learning_rate=0.05, hidden_units=400\n"
     ]
    },
    {
     "name": "stderr",
     "output_type": "stream",
     "text": [
      "c:\\Users\\sofia\\AppData\\Local\\Programs\\Python\\Python311\\Lib\\site-packages\\keras\\src\\layers\\core\\dense.py:87: UserWarning: Do not pass an `input_shape`/`input_dim` argument to a layer. When using Sequential models, prefer using an `Input(shape)` object as the first layer in the model instead.\n",
      "  super().__init__(activity_regularizer=activity_regularizer, **kwargs)\n",
      "2025/05/24 20:45:15 WARNING mlflow.keras.save: You are saving a Keras model without specifying model signature.\n",
      "2025/05/24 20:45:31 WARNING mlflow.models.model: Model logged without a signature and input example. Please set `input_example` parameter when logging the model to auto infer the model signature.\n"
     ]
    },
    {
     "name": "stdout",
     "output_type": "stream",
     "text": [
      "🏃 View run exp_53 at: http://localhost:5000/#/experiments/690124376614287936/runs/3b821411a0e942aab0fb8af72a42a774\n",
      "🧪 View experiment at: http://localhost:5000/#/experiments/690124376614287936\n",
      "Experimento 54/81: batch_size=120, epochs=15, learning_rate=0.05, hidden_units=500\n"
     ]
    },
    {
     "name": "stderr",
     "output_type": "stream",
     "text": [
      "c:\\Users\\sofia\\AppData\\Local\\Programs\\Python\\Python311\\Lib\\site-packages\\keras\\src\\layers\\core\\dense.py:87: UserWarning: Do not pass an `input_shape`/`input_dim` argument to a layer. When using Sequential models, prefer using an `Input(shape)` object as the first layer in the model instead.\n",
      "  super().__init__(activity_regularizer=activity_regularizer, **kwargs)\n",
      "2025/05/24 20:48:20 WARNING mlflow.keras.save: You are saving a Keras model without specifying model signature.\n",
      "2025/05/24 20:48:40 WARNING mlflow.models.model: Model logged without a signature and input example. Please set `input_example` parameter when logging the model to auto infer the model signature.\n"
     ]
    },
    {
     "name": "stdout",
     "output_type": "stream",
     "text": [
      "🏃 View run exp_54 at: http://localhost:5000/#/experiments/690124376614287936/runs/279c5232b42e447597da989880ef6c2e\n",
      "🧪 View experiment at: http://localhost:5000/#/experiments/690124376614287936\n",
      "Experimento 55/81: batch_size=200, epochs=5, learning_rate=0.001, hidden_units=300\n"
     ]
    },
    {
     "name": "stderr",
     "output_type": "stream",
     "text": [
      "c:\\Users\\sofia\\AppData\\Local\\Programs\\Python\\Python311\\Lib\\site-packages\\keras\\src\\layers\\core\\dense.py:87: UserWarning: Do not pass an `input_shape`/`input_dim` argument to a layer. When using Sequential models, prefer using an `Input(shape)` object as the first layer in the model instead.\n",
      "  super().__init__(activity_regularizer=activity_regularizer, **kwargs)\n",
      "2025/05/24 20:49:21 WARNING mlflow.keras.save: You are saving a Keras model without specifying model signature.\n",
      "2025/05/24 20:49:40 WARNING mlflow.models.model: Model logged without a signature and input example. Please set `input_example` parameter when logging the model to auto infer the model signature.\n"
     ]
    },
    {
     "name": "stdout",
     "output_type": "stream",
     "text": [
      "🏃 View run exp_55 at: http://localhost:5000/#/experiments/690124376614287936/runs/bcbfe418517d41d2b5fbcd9f1c0e438f\n",
      "🧪 View experiment at: http://localhost:5000/#/experiments/690124376614287936\n",
      "Experimento 56/81: batch_size=200, epochs=5, learning_rate=0.001, hidden_units=400\n"
     ]
    },
    {
     "name": "stderr",
     "output_type": "stream",
     "text": [
      "c:\\Users\\sofia\\AppData\\Local\\Programs\\Python\\Python311\\Lib\\site-packages\\keras\\src\\layers\\core\\dense.py:87: UserWarning: Do not pass an `input_shape`/`input_dim` argument to a layer. When using Sequential models, prefer using an `Input(shape)` object as the first layer in the model instead.\n",
      "  super().__init__(activity_regularizer=activity_regularizer, **kwargs)\n",
      "2025/05/24 20:50:22 WARNING mlflow.keras.save: You are saving a Keras model without specifying model signature.\n",
      "2025/05/24 20:50:38 WARNING mlflow.models.model: Model logged without a signature and input example. Please set `input_example` parameter when logging the model to auto infer the model signature.\n"
     ]
    },
    {
     "name": "stdout",
     "output_type": "stream",
     "text": [
      "🏃 View run exp_56 at: http://localhost:5000/#/experiments/690124376614287936/runs/deb2571e58a34df09461b7997b93fdf6\n",
      "🧪 View experiment at: http://localhost:5000/#/experiments/690124376614287936\n",
      "Experimento 57/81: batch_size=200, epochs=5, learning_rate=0.001, hidden_units=500\n"
     ]
    },
    {
     "name": "stderr",
     "output_type": "stream",
     "text": [
      "c:\\Users\\sofia\\AppData\\Local\\Programs\\Python\\Python311\\Lib\\site-packages\\keras\\src\\layers\\core\\dense.py:87: UserWarning: Do not pass an `input_shape`/`input_dim` argument to a layer. When using Sequential models, prefer using an `Input(shape)` object as the first layer in the model instead.\n",
      "  super().__init__(activity_regularizer=activity_regularizer, **kwargs)\n",
      "2025/05/24 20:51:21 WARNING mlflow.keras.save: You are saving a Keras model without specifying model signature.\n",
      "2025/05/24 20:51:37 WARNING mlflow.models.model: Model logged without a signature and input example. Please set `input_example` parameter when logging the model to auto infer the model signature.\n"
     ]
    },
    {
     "name": "stdout",
     "output_type": "stream",
     "text": [
      "🏃 View run exp_57 at: http://localhost:5000/#/experiments/690124376614287936/runs/5a8316f9bdb04971b77594fc39c04731\n",
      "🧪 View experiment at: http://localhost:5000/#/experiments/690124376614287936\n",
      "Experimento 58/81: batch_size=200, epochs=5, learning_rate=0.01, hidden_units=300\n"
     ]
    },
    {
     "name": "stderr",
     "output_type": "stream",
     "text": [
      "c:\\Users\\sofia\\AppData\\Local\\Programs\\Python\\Python311\\Lib\\site-packages\\keras\\src\\layers\\core\\dense.py:87: UserWarning: Do not pass an `input_shape`/`input_dim` argument to a layer. When using Sequential models, prefer using an `Input(shape)` object as the first layer in the model instead.\n",
      "  super().__init__(activity_regularizer=activity_regularizer, **kwargs)\n",
      "2025/05/24 20:52:14 WARNING mlflow.keras.save: You are saving a Keras model without specifying model signature.\n",
      "2025/05/24 20:52:29 WARNING mlflow.models.model: Model logged without a signature and input example. Please set `input_example` parameter when logging the model to auto infer the model signature.\n"
     ]
    },
    {
     "name": "stdout",
     "output_type": "stream",
     "text": [
      "🏃 View run exp_58 at: http://localhost:5000/#/experiments/690124376614287936/runs/5e6acb99c03c4c459cc60caeb81522f4\n",
      "🧪 View experiment at: http://localhost:5000/#/experiments/690124376614287936\n",
      "Experimento 59/81: batch_size=200, epochs=5, learning_rate=0.01, hidden_units=400\n"
     ]
    },
    {
     "name": "stderr",
     "output_type": "stream",
     "text": [
      "c:\\Users\\sofia\\AppData\\Local\\Programs\\Python\\Python311\\Lib\\site-packages\\keras\\src\\layers\\core\\dense.py:87: UserWarning: Do not pass an `input_shape`/`input_dim` argument to a layer. When using Sequential models, prefer using an `Input(shape)` object as the first layer in the model instead.\n",
      "  super().__init__(activity_regularizer=activity_regularizer, **kwargs)\n",
      "2025/05/24 20:53:12 WARNING mlflow.keras.save: You are saving a Keras model without specifying model signature.\n",
      "2025/05/24 20:53:28 WARNING mlflow.models.model: Model logged without a signature and input example. Please set `input_example` parameter when logging the model to auto infer the model signature.\n"
     ]
    },
    {
     "name": "stdout",
     "output_type": "stream",
     "text": [
      "🏃 View run exp_59 at: http://localhost:5000/#/experiments/690124376614287936/runs/268d5b870efe4dca933682e035fba980\n",
      "🧪 View experiment at: http://localhost:5000/#/experiments/690124376614287936\n",
      "Experimento 60/81: batch_size=200, epochs=5, learning_rate=0.01, hidden_units=500\n"
     ]
    },
    {
     "name": "stderr",
     "output_type": "stream",
     "text": [
      "c:\\Users\\sofia\\AppData\\Local\\Programs\\Python\\Python311\\Lib\\site-packages\\keras\\src\\layers\\core\\dense.py:87: UserWarning: Do not pass an `input_shape`/`input_dim` argument to a layer. When using Sequential models, prefer using an `Input(shape)` object as the first layer in the model instead.\n",
      "  super().__init__(activity_regularizer=activity_regularizer, **kwargs)\n",
      "2025/05/24 20:54:08 WARNING mlflow.keras.save: You are saving a Keras model without specifying model signature.\n",
      "2025/05/24 20:54:24 WARNING mlflow.models.model: Model logged without a signature and input example. Please set `input_example` parameter when logging the model to auto infer the model signature.\n"
     ]
    },
    {
     "name": "stdout",
     "output_type": "stream",
     "text": [
      "🏃 View run exp_60 at: http://localhost:5000/#/experiments/690124376614287936/runs/bccf694ef0fd4687954090143bcc2220\n",
      "🧪 View experiment at: http://localhost:5000/#/experiments/690124376614287936\n",
      "Experimento 61/81: batch_size=200, epochs=5, learning_rate=0.05, hidden_units=300\n"
     ]
    },
    {
     "name": "stderr",
     "output_type": "stream",
     "text": [
      "c:\\Users\\sofia\\AppData\\Local\\Programs\\Python\\Python311\\Lib\\site-packages\\keras\\src\\layers\\core\\dense.py:87: UserWarning: Do not pass an `input_shape`/`input_dim` argument to a layer. When using Sequential models, prefer using an `Input(shape)` object as the first layer in the model instead.\n",
      "  super().__init__(activity_regularizer=activity_regularizer, **kwargs)\n",
      "2025/05/24 20:55:05 WARNING mlflow.keras.save: You are saving a Keras model without specifying model signature.\n",
      "2025/05/24 20:55:21 WARNING mlflow.models.model: Model logged without a signature and input example. Please set `input_example` parameter when logging the model to auto infer the model signature.\n"
     ]
    },
    {
     "name": "stdout",
     "output_type": "stream",
     "text": [
      "🏃 View run exp_61 at: http://localhost:5000/#/experiments/690124376614287936/runs/5ee02eca06a5424e86483556452a144d\n",
      "🧪 View experiment at: http://localhost:5000/#/experiments/690124376614287936\n",
      "Experimento 62/81: batch_size=200, epochs=5, learning_rate=0.05, hidden_units=400\n"
     ]
    },
    {
     "name": "stderr",
     "output_type": "stream",
     "text": [
      "c:\\Users\\sofia\\AppData\\Local\\Programs\\Python\\Python311\\Lib\\site-packages\\keras\\src\\layers\\core\\dense.py:87: UserWarning: Do not pass an `input_shape`/`input_dim` argument to a layer. When using Sequential models, prefer using an `Input(shape)` object as the first layer in the model instead.\n",
      "  super().__init__(activity_regularizer=activity_regularizer, **kwargs)\n",
      "2025/05/24 20:56:01 WARNING mlflow.keras.save: You are saving a Keras model without specifying model signature.\n",
      "2025/05/24 20:56:16 WARNING mlflow.models.model: Model logged without a signature and input example. Please set `input_example` parameter when logging the model to auto infer the model signature.\n"
     ]
    },
    {
     "name": "stdout",
     "output_type": "stream",
     "text": [
      "🏃 View run exp_62 at: http://localhost:5000/#/experiments/690124376614287936/runs/ddfc4a7d030145d28e87c7c8c9c61489\n",
      "🧪 View experiment at: http://localhost:5000/#/experiments/690124376614287936\n",
      "Experimento 63/81: batch_size=200, epochs=5, learning_rate=0.05, hidden_units=500\n"
     ]
    },
    {
     "name": "stderr",
     "output_type": "stream",
     "text": [
      "c:\\Users\\sofia\\AppData\\Local\\Programs\\Python\\Python311\\Lib\\site-packages\\keras\\src\\layers\\core\\dense.py:87: UserWarning: Do not pass an `input_shape`/`input_dim` argument to a layer. When using Sequential models, prefer using an `Input(shape)` object as the first layer in the model instead.\n",
      "  super().__init__(activity_regularizer=activity_regularizer, **kwargs)\n",
      "2025/05/24 20:57:03 WARNING mlflow.keras.save: You are saving a Keras model without specifying model signature.\n",
      "2025/05/24 20:57:23 WARNING mlflow.models.model: Model logged without a signature and input example. Please set `input_example` parameter when logging the model to auto infer the model signature.\n"
     ]
    },
    {
     "name": "stdout",
     "output_type": "stream",
     "text": [
      "🏃 View run exp_63 at: http://localhost:5000/#/experiments/690124376614287936/runs/97c08fc455eb4cb589b54f66b846e8ef\n",
      "🧪 View experiment at: http://localhost:5000/#/experiments/690124376614287936\n",
      "Experimento 64/81: batch_size=200, epochs=10, learning_rate=0.001, hidden_units=300\n"
     ]
    },
    {
     "name": "stderr",
     "output_type": "stream",
     "text": [
      "c:\\Users\\sofia\\AppData\\Local\\Programs\\Python\\Python311\\Lib\\site-packages\\keras\\src\\layers\\core\\dense.py:87: UserWarning: Do not pass an `input_shape`/`input_dim` argument to a layer. When using Sequential models, prefer using an `Input(shape)` object as the first layer in the model instead.\n",
      "  super().__init__(activity_regularizer=activity_regularizer, **kwargs)\n",
      "2025/05/24 20:58:36 WARNING mlflow.keras.save: You are saving a Keras model without specifying model signature.\n",
      "2025/05/24 20:58:57 WARNING mlflow.models.model: Model logged without a signature and input example. Please set `input_example` parameter when logging the model to auto infer the model signature.\n"
     ]
    },
    {
     "name": "stdout",
     "output_type": "stream",
     "text": [
      "🏃 View run exp_64 at: http://localhost:5000/#/experiments/690124376614287936/runs/56fda2cb1dc94924b97ff1a887598932\n",
      "🧪 View experiment at: http://localhost:5000/#/experiments/690124376614287936\n",
      "Experimento 65/81: batch_size=200, epochs=10, learning_rate=0.001, hidden_units=400\n"
     ]
    },
    {
     "name": "stderr",
     "output_type": "stream",
     "text": [
      "c:\\Users\\sofia\\AppData\\Local\\Programs\\Python\\Python311\\Lib\\site-packages\\keras\\src\\layers\\core\\dense.py:87: UserWarning: Do not pass an `input_shape`/`input_dim` argument to a layer. When using Sequential models, prefer using an `Input(shape)` object as the first layer in the model instead.\n",
      "  super().__init__(activity_regularizer=activity_regularizer, **kwargs)\n",
      "2025/05/24 21:00:18 WARNING mlflow.keras.save: You are saving a Keras model without specifying model signature.\n",
      "2025/05/24 21:00:41 WARNING mlflow.models.model: Model logged without a signature and input example. Please set `input_example` parameter when logging the model to auto infer the model signature.\n"
     ]
    },
    {
     "name": "stdout",
     "output_type": "stream",
     "text": [
      "🏃 View run exp_65 at: http://localhost:5000/#/experiments/690124376614287936/runs/6709559585384b55a76bf78a945d862e\n",
      "🧪 View experiment at: http://localhost:5000/#/experiments/690124376614287936\n",
      "Experimento 66/81: batch_size=200, epochs=10, learning_rate=0.001, hidden_units=500\n"
     ]
    },
    {
     "name": "stderr",
     "output_type": "stream",
     "text": [
      "c:\\Users\\sofia\\AppData\\Local\\Programs\\Python\\Python311\\Lib\\site-packages\\keras\\src\\layers\\core\\dense.py:87: UserWarning: Do not pass an `input_shape`/`input_dim` argument to a layer. When using Sequential models, prefer using an `Input(shape)` object as the first layer in the model instead.\n",
      "  super().__init__(activity_regularizer=activity_regularizer, **kwargs)\n",
      "2025/05/24 21:02:03 WARNING mlflow.keras.save: You are saving a Keras model without specifying model signature.\n",
      "2025/05/24 21:02:19 WARNING mlflow.models.model: Model logged without a signature and input example. Please set `input_example` parameter when logging the model to auto infer the model signature.\n"
     ]
    },
    {
     "name": "stdout",
     "output_type": "stream",
     "text": [
      "🏃 View run exp_66 at: http://localhost:5000/#/experiments/690124376614287936/runs/1debab4be32d4451b3b4980acd42607f\n",
      "🧪 View experiment at: http://localhost:5000/#/experiments/690124376614287936\n",
      "Experimento 67/81: batch_size=200, epochs=10, learning_rate=0.01, hidden_units=300\n"
     ]
    },
    {
     "name": "stderr",
     "output_type": "stream",
     "text": [
      "c:\\Users\\sofia\\AppData\\Local\\Programs\\Python\\Python311\\Lib\\site-packages\\keras\\src\\layers\\core\\dense.py:87: UserWarning: Do not pass an `input_shape`/`input_dim` argument to a layer. When using Sequential models, prefer using an `Input(shape)` object as the first layer in the model instead.\n",
      "  super().__init__(activity_regularizer=activity_regularizer, **kwargs)\n",
      "2025/05/24 21:03:27 WARNING mlflow.keras.save: You are saving a Keras model without specifying model signature.\n",
      "2025/05/24 21:03:42 WARNING mlflow.models.model: Model logged without a signature and input example. Please set `input_example` parameter when logging the model to auto infer the model signature.\n"
     ]
    },
    {
     "name": "stdout",
     "output_type": "stream",
     "text": [
      "🏃 View run exp_67 at: http://localhost:5000/#/experiments/690124376614287936/runs/1b8f5a540222459191ea6dbb9a6c9ffe\n",
      "🧪 View experiment at: http://localhost:5000/#/experiments/690124376614287936\n",
      "Experimento 68/81: batch_size=200, epochs=10, learning_rate=0.01, hidden_units=400\n"
     ]
    },
    {
     "name": "stderr",
     "output_type": "stream",
     "text": [
      "c:\\Users\\sofia\\AppData\\Local\\Programs\\Python\\Python311\\Lib\\site-packages\\keras\\src\\layers\\core\\dense.py:87: UserWarning: Do not pass an `input_shape`/`input_dim` argument to a layer. When using Sequential models, prefer using an `Input(shape)` object as the first layer in the model instead.\n",
      "  super().__init__(activity_regularizer=activity_regularizer, **kwargs)\n",
      "2025/05/24 21:04:53 WARNING mlflow.keras.save: You are saving a Keras model without specifying model signature.\n",
      "2025/05/24 21:05:09 WARNING mlflow.models.model: Model logged without a signature and input example. Please set `input_example` parameter when logging the model to auto infer the model signature.\n"
     ]
    },
    {
     "name": "stdout",
     "output_type": "stream",
     "text": [
      "🏃 View run exp_68 at: http://localhost:5000/#/experiments/690124376614287936/runs/3967b7c0467442d6a3468f96fe096868\n",
      "🧪 View experiment at: http://localhost:5000/#/experiments/690124376614287936\n",
      "Experimento 69/81: batch_size=200, epochs=10, learning_rate=0.01, hidden_units=500\n"
     ]
    },
    {
     "name": "stderr",
     "output_type": "stream",
     "text": [
      "c:\\Users\\sofia\\AppData\\Local\\Programs\\Python\\Python311\\Lib\\site-packages\\keras\\src\\layers\\core\\dense.py:87: UserWarning: Do not pass an `input_shape`/`input_dim` argument to a layer. When using Sequential models, prefer using an `Input(shape)` object as the first layer in the model instead.\n",
      "  super().__init__(activity_regularizer=activity_regularizer, **kwargs)\n",
      "2025/05/24 21:06:26 WARNING mlflow.keras.save: You are saving a Keras model without specifying model signature.\n",
      "2025/05/24 21:06:42 WARNING mlflow.models.model: Model logged without a signature and input example. Please set `input_example` parameter when logging the model to auto infer the model signature.\n"
     ]
    },
    {
     "name": "stdout",
     "output_type": "stream",
     "text": [
      "🏃 View run exp_69 at: http://localhost:5000/#/experiments/690124376614287936/runs/f57721afac084f5f943a7db0c5ea3f72\n",
      "🧪 View experiment at: http://localhost:5000/#/experiments/690124376614287936\n",
      "Experimento 70/81: batch_size=200, epochs=10, learning_rate=0.05, hidden_units=300\n"
     ]
    },
    {
     "name": "stderr",
     "output_type": "stream",
     "text": [
      "c:\\Users\\sofia\\AppData\\Local\\Programs\\Python\\Python311\\Lib\\site-packages\\keras\\src\\layers\\core\\dense.py:87: UserWarning: Do not pass an `input_shape`/`input_dim` argument to a layer. When using Sequential models, prefer using an `Input(shape)` object as the first layer in the model instead.\n",
      "  super().__init__(activity_regularizer=activity_regularizer, **kwargs)\n",
      "2025/05/24 21:07:52 WARNING mlflow.keras.save: You are saving a Keras model without specifying model signature.\n",
      "2025/05/24 21:08:07 WARNING mlflow.models.model: Model logged without a signature and input example. Please set `input_example` parameter when logging the model to auto infer the model signature.\n"
     ]
    },
    {
     "name": "stdout",
     "output_type": "stream",
     "text": [
      "🏃 View run exp_70 at: http://localhost:5000/#/experiments/690124376614287936/runs/785a111d1bb94e87b4f86649556f50e4\n",
      "🧪 View experiment at: http://localhost:5000/#/experiments/690124376614287936\n",
      "Experimento 71/81: batch_size=200, epochs=10, learning_rate=0.05, hidden_units=400\n"
     ]
    },
    {
     "name": "stderr",
     "output_type": "stream",
     "text": [
      "c:\\Users\\sofia\\AppData\\Local\\Programs\\Python\\Python311\\Lib\\site-packages\\keras\\src\\layers\\core\\dense.py:87: UserWarning: Do not pass an `input_shape`/`input_dim` argument to a layer. When using Sequential models, prefer using an `Input(shape)` object as the first layer in the model instead.\n",
      "  super().__init__(activity_regularizer=activity_regularizer, **kwargs)\n",
      "2025/05/24 21:09:21 WARNING mlflow.keras.save: You are saving a Keras model without specifying model signature.\n",
      "2025/05/24 21:09:37 WARNING mlflow.models.model: Model logged without a signature and input example. Please set `input_example` parameter when logging the model to auto infer the model signature.\n"
     ]
    },
    {
     "name": "stdout",
     "output_type": "stream",
     "text": [
      "🏃 View run exp_71 at: http://localhost:5000/#/experiments/690124376614287936/runs/ce0f39e2fda943f6935679b7c02a815d\n",
      "🧪 View experiment at: http://localhost:5000/#/experiments/690124376614287936\n",
      "Experimento 72/81: batch_size=200, epochs=10, learning_rate=0.05, hidden_units=500\n"
     ]
    },
    {
     "name": "stderr",
     "output_type": "stream",
     "text": [
      "c:\\Users\\sofia\\AppData\\Local\\Programs\\Python\\Python311\\Lib\\site-packages\\keras\\src\\layers\\core\\dense.py:87: UserWarning: Do not pass an `input_shape`/`input_dim` argument to a layer. When using Sequential models, prefer using an `Input(shape)` object as the first layer in the model instead.\n",
      "  super().__init__(activity_regularizer=activity_regularizer, **kwargs)\n",
      "2025/05/24 21:10:54 WARNING mlflow.keras.save: You are saving a Keras model without specifying model signature.\n",
      "2025/05/24 21:11:10 WARNING mlflow.models.model: Model logged without a signature and input example. Please set `input_example` parameter when logging the model to auto infer the model signature.\n"
     ]
    },
    {
     "name": "stdout",
     "output_type": "stream",
     "text": [
      "🏃 View run exp_72 at: http://localhost:5000/#/experiments/690124376614287936/runs/a183ae34db124d5e887f4136c7fdb2ab\n",
      "🧪 View experiment at: http://localhost:5000/#/experiments/690124376614287936\n",
      "Experimento 73/81: batch_size=200, epochs=15, learning_rate=0.001, hidden_units=300\n"
     ]
    },
    {
     "name": "stderr",
     "output_type": "stream",
     "text": [
      "c:\\Users\\sofia\\AppData\\Local\\Programs\\Python\\Python311\\Lib\\site-packages\\keras\\src\\layers\\core\\dense.py:87: UserWarning: Do not pass an `input_shape`/`input_dim` argument to a layer. When using Sequential models, prefer using an `Input(shape)` object as the first layer in the model instead.\n",
      "  super().__init__(activity_regularizer=activity_regularizer, **kwargs)\n",
      "2025/05/24 21:12:50 WARNING mlflow.keras.save: You are saving a Keras model without specifying model signature.\n",
      "2025/05/24 21:13:05 WARNING mlflow.models.model: Model logged without a signature and input example. Please set `input_example` parameter when logging the model to auto infer the model signature.\n"
     ]
    },
    {
     "name": "stdout",
     "output_type": "stream",
     "text": [
      "🏃 View run exp_73 at: http://localhost:5000/#/experiments/690124376614287936/runs/55b8b910ae3845039d8d5d1bffac0264\n",
      "🧪 View experiment at: http://localhost:5000/#/experiments/690124376614287936\n",
      "Experimento 74/81: batch_size=200, epochs=15, learning_rate=0.001, hidden_units=400\n"
     ]
    },
    {
     "name": "stderr",
     "output_type": "stream",
     "text": [
      "c:\\Users\\sofia\\AppData\\Local\\Programs\\Python\\Python311\\Lib\\site-packages\\keras\\src\\layers\\core\\dense.py:87: UserWarning: Do not pass an `input_shape`/`input_dim` argument to a layer. When using Sequential models, prefer using an `Input(shape)` object as the first layer in the model instead.\n",
      "  super().__init__(activity_regularizer=activity_regularizer, **kwargs)\n",
      "2025/05/24 21:14:46 WARNING mlflow.keras.save: You are saving a Keras model without specifying model signature.\n",
      "2025/05/24 21:15:01 WARNING mlflow.models.model: Model logged without a signature and input example. Please set `input_example` parameter when logging the model to auto infer the model signature.\n"
     ]
    },
    {
     "name": "stdout",
     "output_type": "stream",
     "text": [
      "🏃 View run exp_74 at: http://localhost:5000/#/experiments/690124376614287936/runs/2a6a0026e3254223ac88ccdba57f48eb\n",
      "🧪 View experiment at: http://localhost:5000/#/experiments/690124376614287936\n",
      "Experimento 75/81: batch_size=200, epochs=15, learning_rate=0.001, hidden_units=500\n"
     ]
    },
    {
     "name": "stderr",
     "output_type": "stream",
     "text": [
      "c:\\Users\\sofia\\AppData\\Local\\Programs\\Python\\Python311\\Lib\\site-packages\\keras\\src\\layers\\core\\dense.py:87: UserWarning: Do not pass an `input_shape`/`input_dim` argument to a layer. When using Sequential models, prefer using an `Input(shape)` object as the first layer in the model instead.\n",
      "  super().__init__(activity_regularizer=activity_regularizer, **kwargs)\n",
      "2025/05/24 21:16:47 WARNING mlflow.keras.save: You are saving a Keras model without specifying model signature.\n",
      "2025/05/24 21:17:02 WARNING mlflow.models.model: Model logged without a signature and input example. Please set `input_example` parameter when logging the model to auto infer the model signature.\n"
     ]
    },
    {
     "name": "stdout",
     "output_type": "stream",
     "text": [
      "🏃 View run exp_75 at: http://localhost:5000/#/experiments/690124376614287936/runs/77d194c210b847d5890d10847a9151b4\n",
      "🧪 View experiment at: http://localhost:5000/#/experiments/690124376614287936\n",
      "Experimento 76/81: batch_size=200, epochs=15, learning_rate=0.01, hidden_units=300\n"
     ]
    },
    {
     "name": "stderr",
     "output_type": "stream",
     "text": [
      "c:\\Users\\sofia\\AppData\\Local\\Programs\\Python\\Python311\\Lib\\site-packages\\keras\\src\\layers\\core\\dense.py:87: UserWarning: Do not pass an `input_shape`/`input_dim` argument to a layer. When using Sequential models, prefer using an `Input(shape)` object as the first layer in the model instead.\n",
      "  super().__init__(activity_regularizer=activity_regularizer, **kwargs)\n",
      "2025/05/24 21:18:42 WARNING mlflow.keras.save: You are saving a Keras model without specifying model signature.\n",
      "2025/05/24 21:18:57 WARNING mlflow.models.model: Model logged without a signature and input example. Please set `input_example` parameter when logging the model to auto infer the model signature.\n"
     ]
    },
    {
     "name": "stdout",
     "output_type": "stream",
     "text": [
      "🏃 View run exp_76 at: http://localhost:5000/#/experiments/690124376614287936/runs/82a9baeb02794bd5885f94e08461b405\n",
      "🧪 View experiment at: http://localhost:5000/#/experiments/690124376614287936\n",
      "Experimento 77/81: batch_size=200, epochs=15, learning_rate=0.01, hidden_units=400\n"
     ]
    },
    {
     "name": "stderr",
     "output_type": "stream",
     "text": [
      "c:\\Users\\sofia\\AppData\\Local\\Programs\\Python\\Python311\\Lib\\site-packages\\keras\\src\\layers\\core\\dense.py:87: UserWarning: Do not pass an `input_shape`/`input_dim` argument to a layer. When using Sequential models, prefer using an `Input(shape)` object as the first layer in the model instead.\n",
      "  super().__init__(activity_regularizer=activity_regularizer, **kwargs)\n",
      "2025/05/24 21:20:13 WARNING mlflow.keras.save: You are saving a Keras model without specifying model signature.\n",
      "2025/05/24 21:20:21 WARNING mlflow.models.model: Model logged without a signature and input example. Please set `input_example` parameter when logging the model to auto infer the model signature.\n"
     ]
    },
    {
     "name": "stdout",
     "output_type": "stream",
     "text": [
      "🏃 View run exp_77 at: http://localhost:5000/#/experiments/690124376614287936/runs/26504294766840e9ba6407ac7a87550d\n",
      "🧪 View experiment at: http://localhost:5000/#/experiments/690124376614287936\n",
      "Experimento 78/81: batch_size=200, epochs=15, learning_rate=0.01, hidden_units=500\n"
     ]
    },
    {
     "name": "stderr",
     "output_type": "stream",
     "text": [
      "c:\\Users\\sofia\\AppData\\Local\\Programs\\Python\\Python311\\Lib\\site-packages\\keras\\src\\layers\\core\\dense.py:87: UserWarning: Do not pass an `input_shape`/`input_dim` argument to a layer. When using Sequential models, prefer using an `Input(shape)` object as the first layer in the model instead.\n",
      "  super().__init__(activity_regularizer=activity_regularizer, **kwargs)\n",
      "2025/05/24 21:21:07 WARNING mlflow.keras.save: You are saving a Keras model without specifying model signature.\n",
      "2025/05/24 21:21:14 WARNING mlflow.models.model: Model logged without a signature and input example. Please set `input_example` parameter when logging the model to auto infer the model signature.\n"
     ]
    },
    {
     "name": "stdout",
     "output_type": "stream",
     "text": [
      "🏃 View run exp_78 at: http://localhost:5000/#/experiments/690124376614287936/runs/870f7a3c0e7a495794a9f99fb1a574fe\n",
      "🧪 View experiment at: http://localhost:5000/#/experiments/690124376614287936\n",
      "Experimento 79/81: batch_size=200, epochs=15, learning_rate=0.05, hidden_units=300\n"
     ]
    },
    {
     "name": "stderr",
     "output_type": "stream",
     "text": [
      "c:\\Users\\sofia\\AppData\\Local\\Programs\\Python\\Python311\\Lib\\site-packages\\keras\\src\\layers\\core\\dense.py:87: UserWarning: Do not pass an `input_shape`/`input_dim` argument to a layer. When using Sequential models, prefer using an `Input(shape)` object as the first layer in the model instead.\n",
      "  super().__init__(activity_regularizer=activity_regularizer, **kwargs)\n",
      "2025/05/24 21:21:57 WARNING mlflow.keras.save: You are saving a Keras model without specifying model signature.\n",
      "2025/05/24 21:22:04 WARNING mlflow.models.model: Model logged without a signature and input example. Please set `input_example` parameter when logging the model to auto infer the model signature.\n"
     ]
    },
    {
     "name": "stdout",
     "output_type": "stream",
     "text": [
      "🏃 View run exp_79 at: http://localhost:5000/#/experiments/690124376614287936/runs/1de822e19de44aef960f7a625fc47a14\n",
      "🧪 View experiment at: http://localhost:5000/#/experiments/690124376614287936\n",
      "Experimento 80/81: batch_size=200, epochs=15, learning_rate=0.05, hidden_units=400\n"
     ]
    },
    {
     "name": "stderr",
     "output_type": "stream",
     "text": [
      "c:\\Users\\sofia\\AppData\\Local\\Programs\\Python\\Python311\\Lib\\site-packages\\keras\\src\\layers\\core\\dense.py:87: UserWarning: Do not pass an `input_shape`/`input_dim` argument to a layer. When using Sequential models, prefer using an `Input(shape)` object as the first layer in the model instead.\n",
      "  super().__init__(activity_regularizer=activity_regularizer, **kwargs)\n",
      "2025/05/24 21:22:49 WARNING mlflow.keras.save: You are saving a Keras model without specifying model signature.\n",
      "2025/05/24 21:22:57 WARNING mlflow.models.model: Model logged without a signature and input example. Please set `input_example` parameter when logging the model to auto infer the model signature.\n"
     ]
    },
    {
     "name": "stdout",
     "output_type": "stream",
     "text": [
      "🏃 View run exp_80 at: http://localhost:5000/#/experiments/690124376614287936/runs/b2386d1c7a4f4da4bb576160e8ea02e4\n",
      "🧪 View experiment at: http://localhost:5000/#/experiments/690124376614287936\n",
      "Experimento 81/81: batch_size=200, epochs=15, learning_rate=0.05, hidden_units=500\n"
     ]
    },
    {
     "name": "stderr",
     "output_type": "stream",
     "text": [
      "c:\\Users\\sofia\\AppData\\Local\\Programs\\Python\\Python311\\Lib\\site-packages\\keras\\src\\layers\\core\\dense.py:87: UserWarning: Do not pass an `input_shape`/`input_dim` argument to a layer. When using Sequential models, prefer using an `Input(shape)` object as the first layer in the model instead.\n",
      "  super().__init__(activity_regularizer=activity_regularizer, **kwargs)\n",
      "2025/05/24 21:23:43 WARNING mlflow.keras.save: You are saving a Keras model without specifying model signature.\n"
     ]
    }
   ],
   "source": [
    "exp = 0\n",
    "total_experiments = len(batch_sizes) * len(epochs_list) * len(learning_rates) * len(hidden_units_list)\n",
    "\n",
    "for batch_size in batch_sizes:\n",
    "    for epochs in epochs_list:\n",
    "        for lr in learning_rates:\n",
    "            for hidden_units in hidden_units_list:\n",
    "                exp += 1\n",
    "                print(f\"Experimento {exp}/{total_experiments}: batch_size={batch_size}, epochs={epochs}, learning_rate={lr}, hidden_units={hidden_units}\")\n",
    "                \n",
    "                with mlflow.start_run(run_name=f\"exp_{exp}\") as run:\n",
    "                    # Crear y entrenar modelo\n",
    "                    model = create_model(X_train.shape[1], hidden_units, lr)\n",
    "                    \n",
    "                    history = model.fit(X_train, y_train, \n",
    "                                      epochs=epochs, \n",
    "                                      batch_size=batch_size,\n",
    "                                      class_weight=class_weights, \n",
    "                                      verbose=0, \n",
    "                                      validation_data=(X_test, y_test))\n",
    "                    \n",
    "                    # Evaluar modelo\n",
    "                    loss, accuracy = model.evaluate(X_test, y_test, verbose=0)\n",
    "                    \n",
    "                    # Log parámetros y métricas\n",
    "                    mlflow.log_param(\"batch_size\", batch_size)\n",
    "                    mlflow.log_param(\"epochs\", epochs)\n",
    "                    mlflow.log_param(\"learning_rate\", lr)\n",
    "                    mlflow.log_param(\"hidden_units\", hidden_units)\n",
    "                    mlflow.log_param(\"input_dim\", X_train.shape[1])\n",
    "                    \n",
    "                    mlflow.log_metric(\"test_loss\", loss)\n",
    "                    mlflow.log_metric(\"test_accuracy\", accuracy)\n",
    "                    mlflow.log_metric(\"final_train_loss\", history.history['loss'][-1])\n",
    "                    mlflow.log_metric(\"final_val_loss\", history.history['val_loss'][-1])\n",
    "                    mlflow.log_metric(\"final_train_accuracy\", history.history['accuracy'][-1])\n",
    "                    mlflow.log_metric(\"final_val_accuracy\", history.history['val_accuracy'][-1])\n",
    "                    \n",
    "                    # Guardar modelo en MLflow\n",
    "                    mlflow.keras.log_model(model, \"model\")\n",
    "                    \n",
    "                    # Guardar información adicional como artefactos\n",
    "                    with open(\"temp_columns_info.pkl\", \"wb\") as f:\n",
    "                        pickle.dump(columns_info, f)\n",
    "                    mlflow.log_artifact(\"temp_columns_info.pkl\", \"preprocessing_info\")\n",
    "                    \n",
    "                    # Rastrear el mejor modelo\n",
    "                    if accuracy > best_accuracy:\n",
    "                        best_accuracy = accuracy\n",
    "                        best_run_id = run.info.run_id\n",
    "                        best_model_info = {\n",
    "                            'run_id': run.info.run_id,\n",
    "                            'accuracy': accuracy,\n",
    "                            'loss': loss,\n",
    "                            'batch_size': batch_size,\n",
    "                            'epochs': epochs,\n",
    "                            'learning_rate': lr,\n",
    "                            'hidden_units': hidden_units\n",
    "                        }\n",
    "                        \n",
    "                        # Guardar mejor modelo localmente también\n",
    "                        model.save(\"modelos_guardados/mejor_modelo.keras\")\n",
    "                        with open(\"modelos_guardados/columns_info.pkl\", \"wb\") as f:\n",
    "                            pickle.dump(columns_info, f)\n",
    "                        \n",
    "                        print(f\"   Nuevo mejor modelo. Accuracy: {accuracy:.4f}\")"
   ]
  }
 ],
 "metadata": {
  "kernelspec": {
   "display_name": "Python 3",
   "language": "python",
   "name": "python3"
  },
  "language_info": {
   "codemirror_mode": {
    "name": "ipython",
    "version": 3
   },
   "file_extension": ".py",
   "mimetype": "text/x-python",
   "name": "python",
   "nbconvert_exporter": "python",
   "pygments_lexer": "ipython3",
   "version": "3.11.0"
  }
 },
 "nbformat": 4,
 "nbformat_minor": 5
}
