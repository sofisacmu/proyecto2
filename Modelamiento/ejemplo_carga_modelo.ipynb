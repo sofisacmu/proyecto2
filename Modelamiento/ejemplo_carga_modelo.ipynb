{
 "cells": [
  {
   "cell_type": "code",
   "execution_count": 41,
   "id": "c2e63986",
   "metadata": {},
   "outputs": [],
   "source": [
    "import numpy as np\n",
    "import mlflow\n",
    "import mlflow.keras\n",
    "import tensorflow as tf\n",
    "from tensorflow.keras.models import Sequential\n",
    "from tensorflow.keras.layers import Dense\n",
    "from tensorflow.keras.optimizers import Adam\n",
    "from sklearn.utils import class_weight\n",
    "from sklearn.model_selection import train_test_split\n",
    "from sklearn.preprocessing import LabelEncoder\n",
    "import pandas as pd\n",
    "import pickle\n",
    "import os\n",
    "import pandas as pd"
   ]
  },
  {
   "cell_type": "code",
   "execution_count": 3,
   "id": "2ab9ad5b",
   "metadata": {},
   "outputs": [],
   "source": [
    "df = pd.read_csv(\"C:/Users/sofia/Downloads/Repositorios analítica/analítica/proyecto2/Datos/Datos2011Limipios.csv\")\n",
    "feature_columns = ['cole_depto_ubicacion', 'cole_jornada', \n",
    "                      'cole_naturaleza', 'fami_educacionmadre', 'fami_educacionpadre', \n",
    "                      'fami_estratovivienda']"
   ]
  },
  {
   "cell_type": "markdown",
   "id": "30d53a81",
   "metadata": {},
   "source": [
    "Transformación de los datos de entrada para el modelo"
   ]
  },
  {
   "cell_type": "code",
   "execution_count": 45,
   "id": "76bc03f4",
   "metadata": {},
   "outputs": [],
   "source": [
    "def transform_new_data(new_data, encoders, reference_columns):\n",
    "    import pandas as pd\n",
    "    from sklearn.preprocessing import LabelEncoder\n",
    "\n",
    "    new_data_encoded = new_data.copy()\n",
    "\n",
    "    # Aplicar LabelEncoder\n",
    "    for col, le in encoders.items():\n",
    "        if col in new_data_encoded.columns:\n",
    "            new_data_encoded[col] = new_data_encoded[col].astype(str)\n",
    "            new_data_encoded[col] = new_data_encoded[col].apply(\n",
    "                lambda x: x if x in le.classes_ else le.classes_[0]\n",
    "            )\n",
    "            new_data_encoded[col] = le.transform(new_data_encoded[col])\n",
    "\n",
    "    # Crear dummies\n",
    "    multi_columns = [col for col in new_data.columns if col not in encoders.keys()]\n",
    "    new_data_encoded = pd.get_dummies(new_data_encoded, columns=multi_columns, drop_first=False, dtype=int)\n",
    "\n",
    "    # Verificar duplicados\n",
    "    print(\"Columnas duplicadas en feature_columns:\", pd.Series(reference_columns).duplicated().any())\n",
    "    print(\"Columnas duplicadas en new_data_encoded:\", new_data_encoded.columns.duplicated().any())\n",
    "\n",
    "    # Eliminar duplicados si es necesario\n",
    "    if new_data_encoded.columns.duplicated().any():\n",
    "        print(\"Columnas duplicadas encontradas y eliminadas:\", new_data_encoded.columns[new_data_encoded.columns.duplicated()])\n",
    "        new_data_encoded = new_data_encoded.loc[:, ~new_data_encoded.columns.duplicated()]\n",
    "\n",
    "    # Asegurar columnas\n",
    "    for col in reference_columns:\n",
    "        if col not in new_data_encoded.columns:\n",
    "            new_data_encoded[col] = 0\n",
    "\n",
    "    new_data_encoded = new_data_encoded.reindex(columns=reference_columns, fill_value=0)\n",
    "    new_data_encoded = new_data_encoded.astype('float32')\n",
    "\n",
    "    return new_data_encoded"
   ]
  },
  {
   "cell_type": "code",
   "execution_count": null,
   "id": "6229f563",
   "metadata": {},
   "outputs": [
    {
     "name": "stdout",
     "output_type": "stream",
     "text": [
      "Columnas duplicadas en feature_columns: False\n",
      "Columnas duplicadas en new_data_encoded: True\n",
      "Columnas duplicadas encontradas y eliminadas: Index(['fami_estratovivienda_Estrato 3', 'fami_estratovivienda_Estrato 3',\n",
      "       'fami_estratovivienda_Estrato 3'],\n",
      "      dtype='object')\n"
     ]
    }
   ],
   "source": [
    "# Ejemplo\n",
    "new_data = df[feature_columns].iloc[15:16]\n",
    "\n",
    "columns_info_path = \"C:/Users/sofia/Downloads/Repositorios analítica/analítica/proyecto2/Modelamiento/modelos_guardados/columns_info.pkl\"\n",
    "\n",
    "with open(columns_info_path, \"rb\") as f:\n",
    "        columns_info = pickle.load(f)\n",
    "\n",
    "new_data_processed = transform_new_data(\n",
    "        new_data[columns_info['categorical_columns'] + ['fami_estratovivienda']], \n",
    "        columns_info['encoders'], \n",
    "        columns_info['feature_columns']\n",
    "    )"
   ]
  },
  {
   "cell_type": "code",
   "execution_count": 47,
   "id": "9d3353ef",
   "metadata": {},
   "outputs": [
    {
     "data": {
      "text/plain": [
       "{'feature_columns': ['periodo',\n",
       "  'estu_tipodocumento',\n",
       "  'cole_area_ubicacion',\n",
       "  'cole_bilingue',\n",
       "  'cole_calendario',\n",
       "  'cole_caracter',\n",
       "  'cole_genero',\n",
       "  'cole_mcpio_ubicacion',\n",
       "  'cole_naturaleza',\n",
       "  'cole_sede_principal',\n",
       "  'estu_depto_presentacion',\n",
       "  'estu_depto_reside',\n",
       "  'estu_estudiante',\n",
       "  'estu_genero',\n",
       "  'estu_mcpio_presentacion',\n",
       "  'estu_mcpio_reside',\n",
       "  'estu_nacionalidad',\n",
       "  'estu_pais_reside',\n",
       "  'estu_privado_libertad',\n",
       "  'fami_tienecomputador',\n",
       "  'fami_tieneinternet',\n",
       "  'desemp_ingles',\n",
       "  'punt_ingles',\n",
       "  'cole_depto_ubicacion_ANTIOQUIA',\n",
       "  'cole_depto_ubicacion_ARAUCA',\n",
       "  'cole_depto_ubicacion_ATLANTICO',\n",
       "  'cole_depto_ubicacion_BOGOTA',\n",
       "  'cole_depto_ubicacion_BOGOTÁ',\n",
       "  'cole_depto_ubicacion_BOLIVAR',\n",
       "  'cole_depto_ubicacion_BOYACA',\n",
       "  'cole_depto_ubicacion_CALDAS',\n",
       "  'cole_depto_ubicacion_CAQUETA',\n",
       "  'cole_depto_ubicacion_CASANARE',\n",
       "  'cole_depto_ubicacion_CAUCA',\n",
       "  'cole_depto_ubicacion_CESAR',\n",
       "  'cole_depto_ubicacion_CHOCO',\n",
       "  'cole_depto_ubicacion_CORDOBA',\n",
       "  'cole_depto_ubicacion_CUNDINAMARCA',\n",
       "  'cole_depto_ubicacion_GUAINIA',\n",
       "  'cole_depto_ubicacion_GUAVIARE',\n",
       "  'cole_depto_ubicacion_HUILA',\n",
       "  'cole_depto_ubicacion_LA GUAJIRA',\n",
       "  'cole_depto_ubicacion_MAGDALENA',\n",
       "  'cole_depto_ubicacion_META',\n",
       "  'cole_depto_ubicacion_NARIÑO',\n",
       "  'cole_depto_ubicacion_NORTE SANTANDER',\n",
       "  'cole_depto_ubicacion_PUTUMAYO',\n",
       "  'cole_depto_ubicacion_QUINDIO',\n",
       "  'cole_depto_ubicacion_RISARALDA',\n",
       "  'cole_depto_ubicacion_SAN ANDRES',\n",
       "  'cole_depto_ubicacion_SANTANDER',\n",
       "  'cole_depto_ubicacion_SUCRE',\n",
       "  'cole_depto_ubicacion_TOLIMA',\n",
       "  'cole_depto_ubicacion_VALLE',\n",
       "  'cole_depto_ubicacion_VAUPES',\n",
       "  'cole_depto_ubicacion_VICHADA',\n",
       "  'cole_jornada_MAÑANA',\n",
       "  'cole_jornada_NOCHE',\n",
       "  'cole_jornada_SABATINA',\n",
       "  'cole_jornada_TARDE',\n",
       "  'cole_jornada_UNICA',\n",
       "  'fami_educacionmadre_Educación profesional incompleta',\n",
       "  'fami_educacionmadre_Ninguno',\n",
       "  'fami_educacionmadre_No sabe',\n",
       "  'fami_educacionmadre_Postgrado',\n",
       "  'fami_educacionmadre_Primaria completa',\n",
       "  'fami_educacionmadre_Primaria incompleta',\n",
       "  'fami_educacionmadre_Secundaria (Bachillerato) completa',\n",
       "  'fami_educacionmadre_Secundaria (Bachillerato) incompleta',\n",
       "  'fami_educacionmadre_Técnica o tecnológica completa',\n",
       "  'fami_educacionmadre_Técnica o tecnológica incompleta',\n",
       "  'fami_educacionpadre_Educación profesional incompleta',\n",
       "  'fami_educacionpadre_Ninguno',\n",
       "  'fami_educacionpadre_No sabe',\n",
       "  'fami_educacionpadre_Postgrado',\n",
       "  'fami_educacionpadre_Primaria completa',\n",
       "  'fami_educacionpadre_Primaria incompleta',\n",
       "  'fami_educacionpadre_Secundaria (Bachillerato) completa',\n",
       "  'fami_educacionpadre_Secundaria (Bachillerato) incompleta',\n",
       "  'fami_educacionpadre_Técnica o tecnológica completa',\n",
       "  'fami_educacionpadre_Técnica o tecnológica incompleta',\n",
       "  'fami_estratovivienda_Estrato 2',\n",
       "  'fami_estratovivienda_Estrato 3',\n",
       "  'fami_estratovivienda_Estrato 4',\n",
       "  'fami_estratovivienda_Estrato 5',\n",
       "  'fami_estratovivienda_Estrato 6'],\n",
       " 'encoders': {'cole_naturaleza': LabelEncoder()},\n",
       " 'categorical_columns': ['cole_depto_ubicacion',\n",
       "  'cole_jornada',\n",
       "  'cole_naturaleza',\n",
       "  'fami_educacionmadre',\n",
       "  'fami_educacionpadre',\n",
       "  'fami_estratovivienda']}"
      ]
     },
     "execution_count": 47,
     "metadata": {},
     "output_type": "execute_result"
    }
   ],
   "source": [
    "columns_info"
   ]
  },
  {
   "cell_type": "code",
   "execution_count": 48,
   "id": "47367cdb",
   "metadata": {},
   "outputs": [
    {
     "data": {
      "text/html": [
       "<div>\n",
       "<style scoped>\n",
       "    .dataframe tbody tr th:only-of-type {\n",
       "        vertical-align: middle;\n",
       "    }\n",
       "\n",
       "    .dataframe tbody tr th {\n",
       "        vertical-align: top;\n",
       "    }\n",
       "\n",
       "    .dataframe thead th {\n",
       "        text-align: right;\n",
       "    }\n",
       "</style>\n",
       "<table border=\"1\" class=\"dataframe\">\n",
       "  <thead>\n",
       "    <tr style=\"text-align: right;\">\n",
       "      <th></th>\n",
       "      <th>cole_depto_ubicacion</th>\n",
       "      <th>cole_jornada</th>\n",
       "      <th>cole_naturaleza</th>\n",
       "      <th>fami_educacionmadre</th>\n",
       "      <th>fami_educacionpadre</th>\n",
       "      <th>fami_estratovivienda</th>\n",
       "    </tr>\n",
       "  </thead>\n",
       "  <tbody>\n",
       "    <tr>\n",
       "      <th>15</th>\n",
       "      <td>BOGOTA</td>\n",
       "      <td>COMPLETA</td>\n",
       "      <td>NO OFICIAL</td>\n",
       "      <td>Educación profesional completa</td>\n",
       "      <td>Educación profesional completa</td>\n",
       "      <td>Estrato 3</td>\n",
       "    </tr>\n",
       "  </tbody>\n",
       "</table>\n",
       "</div>"
      ],
      "text/plain": [
       "   cole_depto_ubicacion cole_jornada cole_naturaleza  \\\n",
       "15               BOGOTA     COMPLETA      NO OFICIAL   \n",
       "\n",
       "               fami_educacionmadre             fami_educacionpadre  \\\n",
       "15  Educación profesional completa  Educación profesional completa   \n",
       "\n",
       "   fami_estratovivienda  \n",
       "15            Estrato 3  "
      ]
     },
     "execution_count": 48,
     "metadata": {},
     "output_type": "execute_result"
    }
   ],
   "source": [
    "new_data"
   ]
  },
  {
   "cell_type": "code",
   "execution_count": 49,
   "id": "fadd2f31",
   "metadata": {},
   "outputs": [
    {
     "name": "stdout",
     "output_type": "stream",
     "text": [
      "cole_depto_ubicacion_BOGOTA 1.0\n",
      "fami_estratovivienda_Estrato 3 1.0\n"
     ]
    }
   ],
   "source": [
    "for j in new_data_processed.columns:\n",
    "    if new_data_processed[j].iloc[0] > 0:\n",
    "        print(j, new_data_processed[j].iloc[0])"
   ]
  },
  {
   "cell_type": "markdown",
   "id": "5a95fea9",
   "metadata": {},
   "source": [
    "Predicción según el modelo para el perfil"
   ]
  },
  {
   "cell_type": "code",
   "execution_count": 32,
   "id": "a3efe081",
   "metadata": {},
   "outputs": [],
   "source": [
    "def load_best_model_and_predict( modelo, columns_info_path, new_data_path=None, new_data_df=None):\n",
    "    \"\"\"\n",
    "    Carga el mejor modelo y hace predicciones en nuevos datos\n",
    "    \"\"\"\n",
    "    # Cargar modelo y información de columnas\n",
    "    model = tf.keras.models.load_model(modelo)\n",
    "    \n",
    "    with open(columns_info_path, \"rb\") as f:\n",
    "        columns_info = pickle.load(f)\n",
    "    \n",
    "    if new_data_path:\n",
    "        new_data = pd.read_csv(new_data_path)\n",
    "    elif new_data_df is not None:\n",
    "        new_data = new_data_df.copy()\n",
    "    else:\n",
    "        # Usar datos de test como ejemplo\n",
    "        new_data = df[feature_columns].iloc[15:16]  # Primera fila como ejemplo\n",
    "    \n",
    "    # Procesar nuevos datos\n",
    "    new_data_processed = transform_new_data(\n",
    "        new_data[columns_info['categorical_columns'] + ['fami_estratovivienda']], \n",
    "        columns_info['encoders'], \n",
    "        columns_info['feature_columns']\n",
    "    )\n",
    "    \n",
    "    # Hacer predicciones\n",
    "    predictions_prob = model.predict(new_data_processed)\n",
    "    predictions_binary = (predictions_prob > 0.5).astype(int)\n",
    "    \n",
    "    # Convertir a etiquetas legibles\n",
    "    predictions_labels = ['exitoso' if pred == 1 else 'no_exitoso' for pred in predictions_binary.flatten()]\n",
    "    \n",
    "    return {\n",
    "        'probabilidades': predictions_prob.flatten(),\n",
    "        'predicciones_binarias': predictions_binary.flatten(),\n",
    "        'predicciones_etiquetas': predictions_labels,\n",
    "        'datos_procesados': new_data_processed\n",
    "    }"
   ]
  },
  {
   "cell_type": "code",
   "execution_count": 50,
   "id": "3988f32e",
   "metadata": {},
   "outputs": [
    {
     "name": "stdout",
     "output_type": "stream",
     "text": [
      "Columnas duplicadas en feature_columns: False\n",
      "Columnas duplicadas en new_data_encoded: True\n",
      "Columnas duplicadas encontradas y eliminadas: Index(['fami_estratovivienda_Estrato 3', 'fami_estratovivienda_Estrato 3',\n",
      "       'fami_estratovivienda_Estrato 3'],\n",
      "      dtype='object')\n",
      "WARNING:tensorflow:6 out of the last 6 calls to <function TensorFlowTrainer.make_predict_function.<locals>.one_step_on_data_distributed at 0x0000026F24F109A0> triggered tf.function retracing. Tracing is expensive and the excessive number of tracings could be due to (1) creating @tf.function repeatedly in a loop, (2) passing tensors with different shapes, (3) passing Python objects instead of tensors. For (1), please define your @tf.function outside of the loop. For (2), @tf.function has reduce_retracing=True option that can avoid unnecessary retracing. For (3), please refer to https://www.tensorflow.org/guide/function#controlling_retracing and https://www.tensorflow.org/api_docs/python/tf/function for  more details.\n",
      "\u001b[1m1/1\u001b[0m \u001b[32m━━━━━━━━━━━━━━━━━━━━\u001b[0m\u001b[37m\u001b[0m \u001b[1m0s\u001b[0m 139ms/step\n",
      "Predicciones en datos de ejemplo:\n",
      "  Ejemplo 1: no_exitoso (probabilidad: 0.0000)\n"
     ]
    }
   ],
   "source": [
    "# Ejemplo\n",
    "\n",
    "resultados = load_best_model_and_predict(modelo=\"C:/Users/sofia/Downloads/Repositorios analítica/analítica/proyecto2/Modelamiento/ejemplo.keras\",\n",
    "                                              columns_info_path=\"C:/Users/sofia/Downloads/Repositorios analítica/analítica/proyecto2/Modelamiento/columns_info_ej.pkl\")\n",
    "print(\"Predicciones en datos de ejemplo:\")\n",
    "for i, (prob, etiqueta) in enumerate(zip(resultados['probabilidades'], resultados['predicciones_etiquetas'])):\n",
    "        print(f\"  Ejemplo {i+1}: {etiqueta} (probabilidad: {prob:.4f})\")"
   ]
  },
  {
   "cell_type": "code",
   "execution_count": 38,
   "id": "4eb5f916",
   "metadata": {},
   "outputs": [
    {
     "data": {
      "text/html": [
       "<div>\n",
       "<style scoped>\n",
       "    .dataframe tbody tr th:only-of-type {\n",
       "        vertical-align: middle;\n",
       "    }\n",
       "\n",
       "    .dataframe tbody tr th {\n",
       "        vertical-align: top;\n",
       "    }\n",
       "\n",
       "    .dataframe thead th {\n",
       "        text-align: right;\n",
       "    }\n",
       "</style>\n",
       "<table border=\"1\" class=\"dataframe\">\n",
       "  <thead>\n",
       "    <tr style=\"text-align: right;\">\n",
       "      <th></th>\n",
       "      <th>cole_depto_ubicacion</th>\n",
       "      <th>cole_jornada</th>\n",
       "      <th>cole_naturaleza</th>\n",
       "      <th>fami_educacionmadre</th>\n",
       "      <th>fami_educacionpadre</th>\n",
       "      <th>fami_estratovivienda</th>\n",
       "    </tr>\n",
       "  </thead>\n",
       "  <tbody>\n",
       "    <tr>\n",
       "      <th>15</th>\n",
       "      <td>BOGOTA</td>\n",
       "      <td>COMPLETA</td>\n",
       "      <td>NO OFICIAL</td>\n",
       "      <td>Educación profesional completa</td>\n",
       "      <td>Educación profesional completa</td>\n",
       "      <td>Estrato 3</td>\n",
       "    </tr>\n",
       "  </tbody>\n",
       "</table>\n",
       "</div>"
      ],
      "text/plain": [
       "   cole_depto_ubicacion cole_jornada cole_naturaleza  \\\n",
       "15               BOGOTA     COMPLETA      NO OFICIAL   \n",
       "\n",
       "               fami_educacionmadre             fami_educacionpadre  \\\n",
       "15  Educación profesional completa  Educación profesional completa   \n",
       "\n",
       "   fami_estratovivienda  \n",
       "15            Estrato 3  "
      ]
     },
     "execution_count": 38,
     "metadata": {},
     "output_type": "execute_result"
    }
   ],
   "source": [
    "df[feature_columns].iloc[15:16]"
   ]
  },
  {
   "cell_type": "code",
   "execution_count": 39,
   "id": "04d7e608",
   "metadata": {},
   "outputs": [
    {
     "name": "stdout",
     "output_type": "stream",
     "text": [
      "cole_depto_ubicacion_BOGOTA 1.0\n",
      "fami_estratovivienda_Estrato 3 1.0\n"
     ]
    }
   ],
   "source": [
    "for j in resultados['datos_procesados'].columns:\n",
    "    if new_data_processed[j].iloc[0] > 0:\n",
    "        print(j, new_data_processed[j].iloc[0])"
   ]
  },
  {
   "cell_type": "code",
   "execution_count": 40,
   "id": "e6e8021e",
   "metadata": {},
   "outputs": [
    {
     "data": {
      "text/plain": [
       "array([4.412931e-15], dtype=float32)"
      ]
     },
     "execution_count": 40,
     "metadata": {},
     "output_type": "execute_result"
    }
   ],
   "source": [
    "resultados['probabilidades']"
   ]
  }
 ],
 "metadata": {
  "kernelspec": {
   "display_name": "Python 3",
   "language": "python",
   "name": "python3"
  },
  "language_info": {
   "codemirror_mode": {
    "name": "ipython",
    "version": 3
   },
   "file_extension": ".py",
   "mimetype": "text/x-python",
   "name": "python",
   "nbconvert_exporter": "python",
   "pygments_lexer": "ipython3",
   "version": "3.11.0"
  }
 },
 "nbformat": 4,
 "nbformat_minor": 5
}
